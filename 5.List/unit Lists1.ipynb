{
 "cells": [
  {
   "cell_type": "code",
   "execution_count": null,
   "id": "98001e92",
   "metadata": {},
   "outputs": [],
   "source": [
    "Representation of list is []\n",
    "[1,2,3]\n",
    "[1.0,2.0]\n",
    "[1,1.0,'a']\n"
   ]
  },
  {
   "cell_type": "code",
   "execution_count": 3,
   "id": "50b7cbdc",
   "metadata": {},
   "outputs": [
    {
     "name": "stdout",
     "output_type": "stream",
     "text": [
      "<class 'list'>\n",
      "4\n",
      "a\n"
     ]
    }
   ],
   "source": [
    "a=[1,1.0,'a',[4,5]]\n",
    "print(type(a))\n",
    "#access the elements using index 0-len-1\n",
    "print(a[3][0])\n",
    "print(a[-2])"
   ]
  },
  {
   "cell_type": "code",
   "execution_count": 1,
   "id": "e836abaa",
   "metadata": {},
   "outputs": [
    {
     "name": "stdout",
     "output_type": "stream",
     "text": [
      "[1, 2, 3]\n"
     ]
    }
   ],
   "source": [
    "#List\n",
    "a=[1,2,3]\n",
    "print(a)"
   ]
  },
  {
   "cell_type": "code",
   "execution_count": 2,
   "id": "b8bc0b63",
   "metadata": {},
   "outputs": [
    {
     "data": {
      "text/plain": [
       "list"
      ]
     },
     "execution_count": 2,
     "metadata": {},
     "output_type": "execute_result"
    }
   ],
   "source": [
    "a=[1.0,2.0]\n",
    "type(a)"
   ]
  },
  {
   "cell_type": "code",
   "execution_count": null,
   "id": "ffcaafba",
   "metadata": {},
   "outputs": [],
   "source": [
    "a=[1,1.0,'a','b',[5,6]]"
   ]
  },
  {
   "cell_type": "code",
   "execution_count": 7,
   "id": "ee477caf",
   "metadata": {},
   "outputs": [
    {
     "name": "stdout",
     "output_type": "stream",
     "text": [
      "[1, 2, 3, 4, 5]\n",
      "[1, 2, 3, 1, 2, 3, 1, 2, 3]\n",
      "False\n",
      "3\n",
      "[6, [7, 8]]\n",
      "[[7, 8], 6, 5, 4, 3, 2, 1]\n",
      "[[7, 8], 5]\n",
      "7\n",
      "False\n"
     ]
    }
   ],
   "source": [
    "#operations on list\n",
    "a=[1,2,3]\n",
    "b=[4,5]\n",
    "#concatenation\n",
    "print(a+b) #[1,2,3,4,5]\n",
    "#repetition\n",
    "print(a*3) # [1,2,3,1,2,3,1,2,3]\n",
    "#membership \n",
    "print(4 in a)#False\n",
    "#indexing \n",
    "print(a[-1]) #3\n",
    "#slicing\n",
    "a=[1,2,3,4,5,6,[7,8]]\n",
    "print(a[5:]) #starting index 5 and ending index =last element [,6,[7,8]]\n",
    "print(a[-1::-1]) #reverse the list [[7,8,],6,5,4,3,2,1]\n",
    "print(a[-1:-5:-2])\n",
    "print(a[6][0]) #7\n",
    "#comparison\n",
    "a=[1,2,3]\n",
    "b=[2,1,3]\n",
    "print(a==b)"
   ]
  },
  {
   "cell_type": "code",
   "execution_count": 16,
   "id": "209c8341",
   "metadata": {},
   "outputs": [
    {
     "name": "stdout",
     "output_type": "stream",
     "text": [
      "[[7, 8], 6, 5, 4, 3, 2, 1]\n",
      "[6, 4]\n"
     ]
    }
   ],
   "source": [
    "a=[1,2,3,4,5,6,[7,8]]\n",
    "#print(a[1:])\n",
    "print(a[-1::-1])\n",
    "print(a[-2:-6:-2])"
   ]
  },
  {
   "cell_type": "code",
   "execution_count": null,
   "id": "3425794d",
   "metadata": {},
   "outputs": [
    {
     "name": "stdout",
     "output_type": "stream",
     "text": [
      "[7, 2, 3, 7, 8]\n",
      "[7, 2, 10, 11, 3, 7, 8]\n"
     ]
    }
   ],
   "source": [
    "#lists are mutable in nature (change the elements in the list, add,update,delete the elements)\n",
    "a=[1,2,3,4,5]\n",
    "a[0]=7  #[7,2,3,4,5]\n",
    "a[3:5]=[7,8] #[7,2,3,7,8,4,5] \n",
    "print(a)\n",
    "a[2:2]=[10,11]\n",
    "print(a)\n"
   ]
  },
  {
   "cell_type": "code",
   "execution_count": 11,
   "id": "cb1c6fc0",
   "metadata": {},
   "outputs": [
    {
     "name": "stdout",
     "output_type": "stream",
     "text": [
      "[1, 2, 3, 4]\n",
      "[1, 2, 4]\n",
      "[1, 2]\n"
     ]
    }
   ],
   "source": [
    "a=[1,2,3,4,5]\n",
    "#del \n",
    "del a[4]\n",
    "print(a)\n",
    "a.pop(2)\n",
    "print(a)\n",
    "a.remove(4) #elementd\n",
    "print(a)"
   ]
  },
  {
   "cell_type": "code",
   "execution_count": 12,
   "id": "652e9641",
   "metadata": {},
   "outputs": [
    {
     "name": "stdout",
     "output_type": "stream",
     "text": [
      "5\n",
      "7\n",
      "1\n",
      "[1, 2, 3, 5, 7]\n",
      "[(0, 1), (1, 2), (2, 3)]\n",
      "True\n",
      "True\n",
      "['b', 'c', 'd']\n",
      "10\n"
     ]
    }
   ],
   "source": [
    "#in built functions of list\n",
    "a=[5,7,1,2,3]\n",
    "print(len(a)) # 5\n",
    "print(max(a)) # 7\n",
    "print(min(a)) #1\n",
    "print(sorted(a)) #[1,2,3,5,7]\n",
    "print(list(enumerate([1,2,3])))\n",
    "#all\n",
    "print(all([1,2,3]))\n",
    "print(any([1,'',0]))\n",
    "#list\n",
    "a=\"bcd\"\n",
    "print(list(a))\n",
    "#sum\n",
    "print(sum([1,2,3,4])) #10"
   ]
  },
  {
   "cell_type": "code",
   "execution_count": 13,
   "id": "0c814052",
   "metadata": {},
   "outputs": [
    {
     "name": "stdout",
     "output_type": "stream",
     "text": [
      "True\n",
      "True\n",
      "['b', 'c', 'd']\n",
      "10\n"
     ]
    }
   ],
   "source": [
    "print(all([1,2,3]))\n",
    "print(any([1,'',0]))\n",
    "#list\n",
    "a=\"bcd\"\n",
    "print(list(a))\n",
    "#sum\n",
    "print(sum([1,2,3,4])) #10"
   ]
  },
  {
   "cell_type": "code",
   "execution_count": 45,
   "id": "16a32d0b",
   "metadata": {},
   "outputs": [
    {
     "name": "stdout",
     "output_type": "stream",
     "text": [
      "[1, 2, 3, 4, 5, 6, [8, 9]]\n"
     ]
    }
   ],
   "source": [
    "#some more important functions\n",
    "#append\n",
    "a=[1,2,3,4,5]\n",
    "a.append(6)\n",
    "a.append([8,9])\n",
    "print(a)"
   ]
  },
  {
   "cell_type": "code",
   "execution_count": 47,
   "id": "ebd77183",
   "metadata": {},
   "outputs": [
    {
     "name": "stdout",
     "output_type": "stream",
     "text": [
      "[1, 2, 3, 4, 5, 6]\n"
     ]
    }
   ],
   "source": [
    "#extend\n",
    "a=[1,2,3]\n",
    "b=[4,5,6]\n",
    "a.extend(b)\n",
    "print(a)"
   ]
  },
  {
   "cell_type": "code",
   "execution_count": 49,
   "id": "d4371687",
   "metadata": {},
   "outputs": [
    {
     "name": "stdout",
     "output_type": "stream",
     "text": [
      "[4, 1, 2, 3]\n"
     ]
    }
   ],
   "source": [
    "#insert\n",
    "a=[1,2,3]\n",
    "a.insert(0,4)\n",
    "print(a)"
   ]
  },
  {
   "cell_type": "code",
   "execution_count": 3,
   "id": "5afa873a",
   "metadata": {},
   "outputs": [
    {
     "name": "stdout",
     "output_type": "stream",
     "text": [
      "3\n"
     ]
    }
   ],
   "source": [
    "#count\n",
    "a=[1,2,3,1,1]\n",
    "print(a.count(1))\n"
   ]
  },
  {
   "cell_type": "code",
   "execution_count": null,
   "id": "b3f3db43",
   "metadata": {},
   "outputs": [],
   "source": []
  },
  {
   "cell_type": "code",
   "execution_count": 4,
   "id": "ad892b5b",
   "metadata": {},
   "outputs": [
    {
     "data": {
      "text/plain": [
       "[1, 2, 3, 4, 5, 6, 7, 8, 9, 10]"
      ]
     },
     "execution_count": 4,
     "metadata": {},
     "output_type": "execute_result"
    }
   ],
   "source": [
    "#List comprehension\n",
    "[i for i in range(1,11)] #i=1,2"
   ]
  },
  {
   "cell_type": "code",
   "execution_count": 5,
   "id": "4be055c6",
   "metadata": {},
   "outputs": [
    {
     "data": {
      "text/plain": [
       "[2, 4, 6, 8, 10, 12, 14, 16, 18, 20]"
      ]
     },
     "execution_count": 5,
     "metadata": {},
     "output_type": "execute_result"
    }
   ],
   "source": [
    "[i for i in range(1,21) if (i%2==0)]"
   ]
  },
  {
   "cell_type": "code",
   "execution_count": 3,
   "id": "4f626f16",
   "metadata": {},
   "outputs": [
    {
     "name": "stdout",
     "output_type": "stream",
     "text": [
      "['t', 'g', 'b', 'a', 'e', 'f', 'z']\n"
     ]
    }
   ],
   "source": [
    "#reverse()\n",
    "x = ['z', 'f', 'e', 'a','b', 'g', 't']\n",
    "x.reverse()\n",
    "print(x)"
   ]
  },
  {
   "cell_type": "code",
   "execution_count": 21,
   "id": "7555aa6f",
   "metadata": {},
   "outputs": [
    {
     "name": "stdout",
     "output_type": "stream",
     "text": [
      "['z', 'f', 'e', 'a', 'b', 'g', 't']\n",
      "['z', 'f', 'e', 'a', 'b', 'g', 't']\n",
      "False\n",
      "1773165270080\n",
      "1773165270208\n"
     ]
    }
   ],
   "source": [
    "#copy()\n",
    "x = ['z', 'f', 'e', 'a','b', 'g', 't']\n",
    "y = x.copy()\n",
    "print(y)\n",
    "print(x)\n",
    "['z', 'f', 'e', 'a', 'b', 'g', 't']\n",
    "print(x is y)\n",
    "print(id(x))\n",
    "print(id(y))"
   ]
  },
  {
   "cell_type": "code",
   "execution_count": 22,
   "id": "f171f854",
   "metadata": {},
   "outputs": [
    {
     "name": "stdout",
     "output_type": "stream",
     "text": [
      "True\n"
     ]
    }
   ],
   "source": [
    "x = ['z', 'f', 'e', 'a','b', 'g', 't']\n",
    "y=x\n",
    "print(x is y)"
   ]
  },
  {
   "cell_type": "code",
   "execution_count": null,
   "id": "cf1a17ad",
   "metadata": {},
   "outputs": [],
   "source": []
  }
 ],
 "metadata": {
  "kernelspec": {
   "display_name": "Python 3 (ipykernel)",
   "language": "python",
   "name": "python3"
  },
  "language_info": {
   "codemirror_mode": {
    "name": "ipython",
    "version": 3
   },
   "file_extension": ".py",
   "mimetype": "text/x-python",
   "name": "python",
   "nbconvert_exporter": "python",
   "pygments_lexer": "ipython3",
   "version": "3.9.12"
  }
 },
 "nbformat": 4,
 "nbformat_minor": 5
}
