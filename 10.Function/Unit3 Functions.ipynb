{
 "cells": [
  {
   "cell_type": "code",
   "execution_count": null,
   "id": "813dd4a2",
   "metadata": {},
   "outputs": [],
   "source": [
    "# function with keyword arguments\n",
    "def fun(name,message):\n",
    "    print(message+ \" \"+name)\n",
    "name=input(\"name\") #name=Prakash\n",
    "message=input(\"Good morning/Good night\")#message=Good morning\n",
    "fun(name,message)#function with positional arguments\n",
    "fun(message=message,name=name)#function with keyword arguments"
   ]
  },
  {
   "cell_type": "code",
   "execution_count": null,
   "id": "24c3a6dd",
   "metadata": {},
   "outputs": [],
   "source": [
    "#Program to illustrate keyword parameters\n",
    "def simplecalc(a,b):\n",
    "\tprint(\"addition:\",a+b)\n",
    "\tprint(\"subtraction:\",a-b)\n",
    "\tprint(\"multiplication:\",a*b)\n",
    "\n",
    "#define your function here and perform arithmetic operations addition, subtraction, multiplicateion and print the result.\n",
    "\n",
    "simplecalc(a = 3, b = 5)\n",
    "simplecalc(b = 4, a = 5)\n",
    "#This function can also be called with positional arguments\n",
    "simplecalc(8, 4)"
   ]
  },
  {
   "cell_type": "code",
   "execution_count": null,
   "id": "d0af554b",
   "metadata": {},
   "outputs": [],
   "source": [
    "#Write a program to print the multiplication table of a number entered by \n",
    "#the user using userdefined functions\n",
    "def multiplication(a):\n",
    "    for i in range(1,11):\n",
    "        print(n,\"*\",i,\"=\",n*i)\n",
    "    \n",
    "n=int(input(\"enter a no.\"))\n",
    "multiplication(n)"
   ]
  },
  {
   "cell_type": "code",
   "execution_count": null,
   "id": "ae315b9a",
   "metadata": {},
   "outputs": [],
   "source": [
    "#write a program to find the sum of numbers in a list \n",
    "def sum1():\n",
    "    sum=0\n",
    "    for i in a:\n",
    "        sum=sum+i\n",
    "    print(sum)\n",
    "a=[1,2,3,4,5]\n",
    "sum1()"
   ]
  },
  {
   "cell_type": "code",
   "execution_count": null,
   "id": "93d9a0d1",
   "metadata": {},
   "outputs": [],
   "source": [
    "#write a program to find the square of numbers in a list using functions\n",
    "def square():\n",
    "    for i in a: #i=1 i=2 i=3\n",
    "        print(i**2)\n",
    "a=[1,2,3,4,5]\n",
    "square()"
   ]
  },
  {
   "cell_type": "code",
   "execution_count": null,
   "id": "b7c2a86a",
   "metadata": {},
   "outputs": [],
   "source": []
  },
  {
   "cell_type": "code",
   "execution_count": null,
   "id": "7bce6f97",
   "metadata": {},
   "outputs": [],
   "source": [
    "#Write a program to find the factorial of a number entered by\n",
    "#the user using user-defined functions \n",
    "def fact(n):\n",
    "    f=1\n",
    "    for i in range(1,n+1):\n",
    "        f=f*i\n",
    "    print(f)\n",
    "n=int(input(\"enter the no.\"))\n",
    "fact(n)"
   ]
  },
  {
   "cell_type": "code",
   "execution_count": null,
   "id": "b2f46990",
   "metadata": {},
   "outputs": [],
   "source": [
    "# take two integer inputs from the user.Then ask the choice\n",
    "# of the user from 1-4. If user enters 1-then perform addition\n",
    "# if user enter 2-then perform subtraction\n",
    "# if user enters 3- then perform multiplication\n",
    "# if user enters 4- then perform division \n",
    "# You have to do this with user defined functions\n",
    "def add():\n",
    "    print(a+b)\n",
    "def sub():\n",
    "    print(a-b)\n",
    "def mul():\n",
    "    print(a*b)\n",
    "def div():\n",
    "    print(a/b)\n",
    "a=int(input(\"enter first no.\"))\n",
    "b=int(input(\"enter second no.\"))\n",
    "c=int(input(\"press 1-addition/2-subtraction/3-multiplication/4-division\"))\n",
    "if c==1:\n",
    "    add()\n",
    "elif c==2:\n",
    "    sub()\n",
    "elif c==3:\n",
    "    mul()\n",
    "elif c==4:\n",
    "    div()\n",
    "else:\n",
    "    print(\"invalid choice. plz enter between 1-4 only\")\n",
    "    \n",
    "    \n",
    "    \n",
    "    \n",
    "    "
   ]
  },
  {
   "cell_type": "code",
   "execution_count": null,
   "id": "11503d01",
   "metadata": {},
   "outputs": [],
   "source": [
    "#default arguments\n",
    "# defining a function  \n",
    "def function( num1, num2=20 ):  #default \n",
    "    print(\"num1 is: \", num1)  \n",
    "    print(\"num2 is: \", num2)  \n",
    "      \n",
    "# Calling the function and passing only one argument  \n",
    "print( \"Passing one argument\" )  \n",
    "function(10)   \n",
    "# Now giving two arguments to the function  \n",
    "print( \"Passing two arguments\" )  \n",
    "function(10,30)  "
   ]
  },
  {
   "cell_type": "code",
   "execution_count": null,
   "id": "3971dba3",
   "metadata": {},
   "outputs": [],
   "source": [
    "#function with keyword argument\n",
    "def saysomething(name,message):\n",
    "\tprint(\"Good \" + message + \" \" + name)\n",
    "name = input(\"name: \")\n",
    "message = input(\"morning/night: \")\n",
    "saysomething(name,message)\n",
    "saysomething(message = message, name = name)#functions with keyword arguments"
   ]
  },
  {
   "cell_type": "code",
   "execution_count": null,
   "id": "1b294bb1",
   "metadata": {},
   "outputs": [],
   "source": [
    "#positional arguments\n",
    "def add(x,y):\n",
    "    print(x+y)\n",
    "add(10,20)"
   ]
  },
  {
   "cell_type": "code",
   "execution_count": null,
   "id": "959140d6",
   "metadata": {},
   "outputs": [],
   "source": [
    "#keywords arguments\n",
    "def add(x,y):\n",
    "    print(x+y)\n",
    "add(y=10,x=20)"
   ]
  },
  {
   "cell_type": "code",
   "execution_count": null,
   "id": "e51fa6cc",
   "metadata": {},
   "outputs": [],
   "source": [
    "#function with keyword arguments\n",
    "def add(x,y):\n",
    "    print(x+y)\n",
    "add(y=30,x=10)\n"
   ]
  },
  {
   "cell_type": "code",
   "execution_count": null,
   "id": "1d474041",
   "metadata": {},
   "outputs": [],
   "source": [
    "#default arguments\n",
    "# defining a function  \n",
    "def function( num1, num2=40 ):  #default \n",
    "    print(\"num1 is: \", num1)  \n",
    "    print(\"num2 is: \", num2)  \n",
    "      \n",
    "# Calling the function and passing only one argument  \n",
    "print( \"Passing one argument\" )  \n",
    "function(10)   \n",
    "# Now giving two arguments to the function  \n",
    "print( \"Passing two arguments\" )  \n",
    "function(10,30)  "
   ]
  },
  {
   "cell_type": "code",
   "execution_count": null,
   "id": "3c3833c2",
   "metadata": {},
   "outputs": [],
   "source": [
    "def nameage(*,name, age):\n",
    "\tprint(name, age)\n",
    "\n",
    "name = input(\"name: \")\n",
    "age = input(\"age: \")d\n",
    "nameage(age = age, name= name)\n",
    "nameage(name = name, age= age)"
   ]
  },
  {
   "cell_type": "code",
   "execution_count": null,
   "id": "c70c2aee",
   "metadata": {},
   "outputs": [],
   "source": [
    "# Take 2 numbers as input from the user. Ask the user to enter 1,2,3 or 4 \n",
    "# If user enters number 1 then perform the addition of two numbers\n",
    "# If user enters number 2 then perform the subtraction of two numbers\n",
    "# If user enters number 3 then perform the multiplication of two numbers\n",
    "# If user enters number 4 then perform the division of two numbers\n",
    "# Complete the task with the help of user defined functions\n",
    "def addition():\n",
    "    print(a+b)\n",
    "def subtraction():\n",
    "    print(a-b)\n",
    "def multiplication():\n",
    "    print(a*b)\n",
    "def division():\n",
    "    print(a/b)\n",
    "a=int(input(\"first no.\"))\n",
    "b=int(input(\"second no.\"))\n",
    "c=int(input(\"enter 1 for addition/2 for subtraction/ 3 for multiplication/4 for division\"))\n",
    "if (c==1):\n",
    "    addition()\n",
    "elif(c==2):\n",
    "    subtraction()\n",
    "elif(c==3):\n",
    "    multiplication()\n",
    "elif(c==4):\n",
    "    division()\n",
    "else:\n",
    "    print(\"invalid input. plz enter the numbers from 1-4 only\")"
   ]
  },
  {
   "cell_type": "code",
   "execution_count": null,
   "id": "14c92bc7",
   "metadata": {},
   "outputs": [],
   "source": [
    "# Write a python program to find the multiply all the numbers in a list\n",
    "# using user defined functions\n",
    "def multiply():\n",
    "    m=1\n",
    "    for i in a: #i=0 i=1 i=2 i=3 i=4\n",
    "        m=m*i #m=120\n",
    "    print(m)\n",
    "        \n",
    "a=[1,2,3,4,5]\n",
    "multiply()\n",
    "    "
   ]
  },
  {
   "cell_type": "code",
   "execution_count": null,
   "id": "3c7d2ee3",
   "metadata": {},
   "outputs": [],
   "source": [
    "def simplecalc(a, b = 100):\n",
    "\t# write your code here\n",
    "\tprint(\"addition:\", a + b)\n",
    "\tprint(\"subtraction:\", a - b)\n",
    "\tprint (\"multiplication:\", a * b)\n",
    "num1 = int(input(\"num1: \"))\n",
    "num2 = int(input(\"num2: \"))\n",
    "simplecalc(a = num1)\n",
    "simplecalc(b = num2, a = num1)"
   ]
  },
  {
   "cell_type": "code",
   "execution_count": null,
   "id": "35b716ac",
   "metadata": {},
   "outputs": [],
   "source": [
    "# Take a pre-defined list of 5 elements. \n",
    "# Write a program to find the multiplication\n",
    "#of all the elements\n",
    "# in the list using user defined functions\n",
    "def multiple():\n",
    "    m=1\n",
    "    for i in list:\n",
    "        m=m*i\n",
    "    print(m)\n",
    "list=[1,2,3,4,5]\n",
    "multiple()"
   ]
  },
  {
   "cell_type": "code",
   "execution_count": null,
   "id": "ecc1354b",
   "metadata": {},
   "outputs": [],
   "source": [
    "#Variable-length Arguments\n",
    "#Program to illustrate variable number of arguments\n",
    "def mySum(*args):\n",
    "\tsum = 0\n",
    "\tfor i in args:\n",
    "\t\tsum = sum + i\n",
    "\treturn sum\n",
    "#Write your code here\n",
    "print(mySum(1, 2, 3, 4, 5, 6, 7))\t#7 arguments\n",
    "print(mySum(1, 2))\t#2 arguments\n",
    "print(mySum(1, 2, 3))\t#3 arguments"
   ]
  },
  {
   "cell_type": "code",
   "execution_count": null,
   "id": "c6f1e749",
   "metadata": {},
   "outputs": [],
   "source": [
    "def calculateTax(salary, percent = 20):\n",
    "\ttaxAmount = salary * percent / 100\n",
    "\tprint(taxAmount)\n",
    "sal = int(input(\"salary: \"))\n",
    "per = float(input(\"tax percentage: \"))\n",
    "calculateTax(sal)\n",
    "calculateTax(sal, per)"
   ]
  },
  {
   "cell_type": "code",
   "execution_count": null,
   "id": "f5b75cda",
   "metadata": {},
   "outputs": [],
   "source": [
    "#Program to illustrate variable number of arguments\n",
    "def mySum(*args):\n",
    "\tsum = 0\n",
    "\tfor i in args:\n",
    "\t\tsum = sum + i\n",
    "\treturn sum\n",
    "#Write your code here\n",
    "print(mySum(1, 2, 3, 4, 5, 6, 7))\t#7 arguments\n",
    "print(mySum(1, 2))\t#2 arguments\n",
    "print(mySum(1, 2, 3))\t#3 arguments"
   ]
  },
  {
   "cell_type": "code",
   "execution_count": null,
   "id": "2d402446",
   "metadata": {},
   "outputs": [],
   "source": [
    "#Program to illustrate Variable number of arguments\n",
    "def largestNumber( * numbers):\n",
    "\ttemp = 0\n",
    "\tfor num in numbers:\n",
    "\t\tif(num < temp): #1<0\n",
    "\t\t\tlargest = temp\n",
    "\t\telse:\n",
    "\t\t\tlargest = num #largest=1\n",
    "\t\t\ttemp = num #temp=1\n",
    "\tprint(\"largest:\", largest)\n",
    "\n",
    "# write your code here\n",
    "\n",
    "largestNumber(1, 2, 3, 4)\t\t\t#4 arguments\n",
    "largestNumber(8, 9, 3, 4, 2, 5)\t\t#6 arguments"
   ]
  },
  {
   "cell_type": "code",
   "execution_count": null,
   "id": "5671327d",
   "metadata": {},
   "outputs": [],
   "source": [
    "tax = lambda salary:salary * 20 / 100 # write the expression here\n",
    "\t\n",
    "salary = int(input(\"Please enter your salary: \"))#\tsalary =50000\n",
    "print(\"Tax to be paid is\", tax(salary))\n"
   ]
  },
  {
   "cell_type": "code",
   "execution_count": null,
   "id": "4374a151",
   "metadata": {},
   "outputs": [],
   "source": [
    "doublenum=lambda x:x*2\n",
    "x=int(input(\"enter the no.\"))#4\n",
    "print(doublenum(x))"
   ]
  },
  {
   "cell_type": "code",
   "execution_count": null,
   "id": "fd38462a",
   "metadata": {},
   "outputs": [],
   "source": [
    "a = [1, 2, 3, 5, 7, 9]\n",
    "b = [2, 3, 6, 7, 9, 8]\n",
    " # apply lambda function to the filter function and print the result\n",
    "print(list(filter(lambda x : x in a, b)))\n",
    " # print the result using list comprehension\n",
    "print([x for x in a if x in b])\n",
    " # follow the example given in descriptio\n",
    "    \n",
    "    "
   ]
  },
  {
   "cell_type": "code",
   "execution_count": null,
   "id": "0540acd0",
   "metadata": {},
   "outputs": [],
   "source": []
  },
  {
   "cell_type": "code",
   "execution_count": null,
   "id": "fdd8339d",
   "metadata": {},
   "outputs": [],
   "source": [
    "#fruitful function L4- which has return keyword\n",
    "def largestinthree(a, b, c): #a=10 b=20 c=30\n",
    "\t# write your code here to find the largest number in a, b and c\n",
    "\tif(a>b and a>c):\n",
    "\t\treturn a\n",
    "\telif(b>a and b>c):\n",
    "\t\treturn b\n",
    "\telse:\n",
    "\t\treturn c #30\n",
    "num1 = int(input(\"Please enter a value for num1: \")) #num1=10\n",
    "num2 = int(input(\"Please enter a value for num2: \")) #20\n",
    "num3 = int(input(\"Please enter a value for num3: \"))#30\n",
    "result = largestinthree(num1, num2, num3) #10,20,30 result=30\n",
    "print(\"Largest of the values entered is\", result)"
   ]
  },
  {
   "cell_type": "code",
   "execution_count": null,
   "id": "6497fca5",
   "metadata": {},
   "outputs": [],
   "source": [
    "def largestintwo(a, b):\n",
    "\tif(a>b):\n",
    "\t\treturn a\n",
    "\telse:\n",
    "\t\treturn b\n",
    "\t\n",
    "# write your code here\t\n",
    "\t\n",
    "num1 = int(input(\"num1: \"))\n",
    "num2 = int(input(\"num2: \"))\n",
    "# write your code here\t\n",
    "result = largestintwo(num1, num2) #10,5\n",
    "print(\"largest:\", result)"
   ]
  },
  {
   "cell_type": "code",
   "execution_count": 7,
   "id": "57010a53",
   "metadata": {},
   "outputs": [
    {
     "name": "stdout",
     "output_type": "stream",
     "text": [
      "[1, 4, 9, 16]\n"
     ]
    }
   ],
   "source": [
    "def square(a):\n",
    "    return a**2\n",
    "l=[1,2,3,4]\n",
    "print(list(map(square,l))) #iterator  #f(a1),f(a2),f(a3)....f(an)"
   ]
  },
  {
   "cell_type": "code",
   "execution_count": 8,
   "id": "73ce2d29",
   "metadata": {},
   "outputs": [
    {
     "name": "stdout",
     "output_type": "stream",
     "text": [
      "[1, 4, 9, 16]\n"
     ]
    }
   ],
   "source": [
    "l=[1,2,3,4]\n",
    "print(list(map(lambda x:x**2,l)))"
   ]
  },
  {
   "cell_type": "code",
   "execution_count": null,
   "id": "566c48a1",
   "metadata": {},
   "outputs": [],
   "source": [
    "def computeGCD(x, y):\n",
    "\n",
    "\tmod = 1\n",
    "\twhile(mod!=0):\n",
    "\t\tmod = y%x\n",
    "\t\tgcd = x\n",
    "\t\ty = x\n",
    "\t\tx = mod\n",
    "\treturn gcd\n",
    "\n",
    "# write your code here\n",
    "x = int(input(\"x: \"))\n",
    "y = int(input(\"y: \"))\n",
    "print(computeGCD(x,y))\n",
    "\n",
    "# write your code here"
   ]
  },
  {
   "cell_type": "code",
   "execution_count": 1,
   "id": "891f5675",
   "metadata": {},
   "outputs": [
    {
     "name": "stdout",
     "output_type": "stream",
     "text": [
      "50 80\n",
      "22 44\n"
     ]
    }
   ],
   "source": [
    "#Local and Global variables\n",
    "def test1():\n",
    "\ta = 50\n",
    "\tb = 80\n",
    "\tprint(a,b)\n",
    "def test2():\n",
    "\ta = 22\n",
    "\tb = 44\n",
    "\tprint(a, b)\n",
    "test1()\n",
    "test2()"
   ]
  },
  {
   "cell_type": "code",
   "execution_count": 10,
   "id": "b983698a",
   "metadata": {},
   "outputs": [
    {
     "name": "stdout",
     "output_type": "stream",
     "text": [
      "Hello\n",
      "Good Morning\n"
     ]
    }
   ],
   "source": [
    "#Program to illustrate Global variable access\n",
    "globvar = \"Hello\" #global variable\n",
    "def test1():\n",
    "\tglobal globvar\n",
    "\tglobvar = \"Good Morning\"  \n",
    "def test2():\n",
    "\t# Here this is a local variable\n",
    "\tglobvar = \"Night Night\" #local variable\n",
    "    \n",
    "print(globvar) # The first value \"Hello\" is printed\n",
    "# call the function test1\n",
    "test1()\n",
    "test2()\n",
    "# call the function test2\n",
    "print(globvar) # The updated value of test1 is printed"
   ]
  },
  {
   "cell_type": "code",
   "execution_count": 6,
   "id": "c490c7bc",
   "metadata": {},
   "outputs": [
    {
     "name": "stdout",
     "output_type": "stream",
     "text": [
      "enter a number5\n",
      "output= 100\n"
     ]
    }
   ],
   "source": [
    "#function composition\n",
    "def square(a):\n",
    "    return a**2 #100\n",
    "def doublenum(a):\n",
    "    return a*2 #10\n",
    "a=int(input(\"enter a number\"))#a=5\n",
    "print(\"output=\",square(doublenum(a)))"
   ]
  },
  {
   "cell_type": "code",
   "execution_count": 11,
   "id": "4dabd2b8",
   "metadata": {},
   "outputs": [
    {
     "name": "stdout",
     "output_type": "stream",
     "text": [
      "a: 10\n",
      "global a before function call: 10\n",
      "local a value: 500\n",
      "global a after function call: 200\n"
     ]
    }
   ],
   "source": [
    "#Program to illustrate Global and Local Variables\n",
    "\n",
    "# take input a from the user\n",
    "a=int(input(\"a: \")) #a=10\n",
    "def changeglobal():\n",
    "\tglobal a\n",
    "\ta = 200\n",
    "def changelocal():\n",
    "\ta = 500\n",
    "\tprint(\"local a value:\", a)\n",
    "\n",
    "print(\"global a before function call:\", a) #10,500,200\n",
    "# call the function changeglobal\n",
    "changeglobal()\n",
    "changelocal()\n",
    "# call the function changelocal\n",
    "print(\"global a after function call:\",a) # print value of a here"
   ]
  },
  {
   "cell_type": "code",
   "execution_count": null,
   "id": "c30ba78f",
   "metadata": {},
   "outputs": [],
   "source": [
    "#Program to illustrate recursion\n",
    "def recurfact(n):\n",
    "\t#Program to illustrate recursion\n",
    "\n",
    "\tif n == 1 or n == 0:\n",
    "\t\treturn 1\n",
    "\telse:\n",
    "\t\treturn n * recurfact(n - 1)\n",
    "num = int(input(\"num: \"))\n",
    "if num < 0:\n",
    "\tprint(\"factorial not exist for negative number\")\n",
    "else:\n",
    "\tprint(\"factorial:\", recurfact(num))\n",
    "\t\n",
    "\n",
    "\n",
    "# write your code here"
   ]
  },
  {
   "cell_type": "code",
   "execution_count": null,
   "id": "80f1ded9",
   "metadata": {},
   "outputs": [],
   "source": [
    "def reverse(n, x):\n",
    "    if (n==0 ):\n",
    "        return x;\n",
    "    # x stores the reverse of a number\n",
    "    \n",
    "    x = (x * 10) + (n % 10)\n",
    "    return reverse(n // 10, x);\n",
    "\n",
    "# Driver code\n",
    "num=int(input(\"x: \"))\n",
    "print(reverse(num,0))\n"
   ]
  },
  {
   "cell_type": "code",
   "execution_count": null,
   "id": "41a617bd",
   "metadata": {},
   "outputs": [],
   "source": [
    "def add():\n",
    "    z=x+y\n",
    "    add()\n",
    "add()"
   ]
  },
  {
   "cell_type": "code",
   "execution_count": null,
   "id": "90f8c249",
   "metadata": {},
   "outputs": [],
   "source": [
    "#Recursive function: function which calls itself again n again\n",
    "#Program to illustrate recursion\n",
    "def recurfact(n):\n",
    "\tif n == 1 or n == 0:\n",
    "\t\treturn 1\n",
    "\telse:h\n",
    "        \n",
    "\t\treturn n * recurfact(n - 1)\n",
    "num = int(input(\"num: \"))\n",
    "if num < 0:\n",
    "\tprint(\"factorial not exist for negative number\")\n",
    "else:\n",
    "\tprint(\"factorial:\", recurfact(num))\n",
    "\t\n",
    "# write your code here"
   ]
  },
  {
   "cell_type": "code",
   "execution_count": null,
   "id": "6c00e268",
   "metadata": {},
   "outputs": [],
   "source": []
  },
  {
   "cell_type": "code",
   "execution_count": null,
   "id": "721a54bf",
   "metadata": {},
   "outputs": [],
   "source": [
    "#Program to add two numbers using recursion\n",
    "def add(x, y):\n",
    "\ttot = x\n",
    "\tif y == 0:\n",
    "\t\treturn x\n",
    "\tif x == 0:\n",
    "\t\treturn y\n",
    "\telse:\n",
    "\t\tif y > 0:\n",
    "\t\t\treturn tot + add(1, y - 1)\n",
    "\t\telse:\n",
    "\t\t\treturn tot + add( - 1, y + 1)\n",
    "a = int(input(\"a: \"))\n",
    "b = int(input(\"b: \"))\n",
    "print(add(a, b))"
   ]
  }
 ],
 "metadata": {
  "kernelspec": {
   "display_name": "Python 3 (ipykernel)",
   "language": "python",
   "name": "python3"
  },
  "language_info": {
   "codemirror_mode": {
    "name": "ipython",
    "version": 3
   },
   "file_extension": ".py",
   "mimetype": "text/x-python",
   "name": "python",
   "nbconvert_exporter": "python",
   "pygments_lexer": "ipython3",
   "version": "3.9.12"
  }
 },
 "nbformat": 4,
 "nbformat_minor": 5
}
