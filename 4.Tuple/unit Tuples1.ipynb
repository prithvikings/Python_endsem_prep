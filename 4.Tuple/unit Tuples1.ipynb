{
 "cells": [
  {
   "cell_type": "code",
   "execution_count": 1,
   "id": "927f23b1",
   "metadata": {},
   "outputs": [
    {
     "name": "stdout",
     "output_type": "stream",
     "text": [
      "('hi', 'hello', 55, 66)\n",
      "<class 'tuple'>\n",
      "['hi', 'hello', 55, 66]\n",
      "<class 'list'>\n"
     ]
    }
   ],
   "source": [
    "tuple1 = ('hello','hi',55,66) # Creating a tuple, tuple1\n",
    "print(tuple1) # Printing tuple1 , output contains values enclosed in parentheses indicating a tuple\n",
    "print(type(tuple1)) # Printing the type of tuple1\n",
    "\n",
    "list1 = list(tuple1) # Converting the tuple1 into a list using list() function.\n",
    "print(list1) # Printing list1 , output contains values enclosed in square brackets indicating a tuple\n",
    "print(type(list1))"
   ]
  },
  {
   "cell_type": "code",
   "execution_count": 2,
   "id": "2a0138ea",
   "metadata": {},
   "outputs": [
    {
     "name": "stdout",
     "output_type": "stream",
     "text": [
      "Given tuple : ('hi', 'hello', 55, 66)\n",
      "After conversion of tuple to list : ['hi', 'hello', 55, 66]\n",
      "List after changing the element : ['hi', 'hello', 'fifty five', 66]\n",
      "After converting list into tuple : ('hi', 'hello', 'fifty five', 66)\n"
     ]
    }
   ],
   "source": [
    "tuple1 = ('hi', 'hello', 55, 66) # Creating a tuple, tuple1\n",
    "print(\"Given tuple :\",tuple1) \n",
    "list1 = list(tuple1) # Converting the tuple to a list using built-in list() function.\n",
    "print(\"After conversion of tuple to list :\",list1) \n",
    "list1[2] = \"fifty five\"  # Updating the value of element at 2nd index. This does not result in an error as the lists are mutable.\n",
    "print(\"List after changing the element :\",list1) \n",
    "tuple1 = tuple(list1)  # Converting the list back to tuple using the built-in tuple() method.\n",
    "print(\"After converting list into tuple :\",tuple1) # Printing the final tuple with the updated element at 2nd index."
   ]
  },
  {
   "cell_type": "code",
   "execution_count": 27,
   "id": "1e1a3cce",
   "metadata": {},
   "outputs": [
    {
     "name": "stdout",
     "output_type": "stream",
     "text": [
      "<class 'tuple'>\n",
      "1\n"
     ]
    },
    {
     "ename": "TypeError",
     "evalue": "'tuple' object does not support item assignment",
     "output_type": "error",
     "traceback": [
      "\u001b[1;31m---------------------------------------------------------------------------\u001b[0m",
      "\u001b[1;31mTypeError\u001b[0m                                 Traceback (most recent call last)",
      "Input \u001b[1;32mIn [27]\u001b[0m, in \u001b[0;36m<cell line: 6>\u001b[1;34m()\u001b[0m\n\u001b[0;32m      4\u001b[0m \u001b[38;5;66;03m#Tuple is also called as read only list (because it is immutable)\u001b[39;00m\n\u001b[0;32m      5\u001b[0m \u001b[38;5;28mprint\u001b[39m(a[\u001b[38;5;241m0\u001b[39m])\n\u001b[1;32m----> 6\u001b[0m a[\u001b[38;5;241m0\u001b[39m]\u001b[38;5;241m=\u001b[39m\u001b[38;5;241m7\u001b[39m\n\u001b[0;32m      7\u001b[0m \u001b[38;5;28mprint\u001b[39m(a)\n",
      "\u001b[1;31mTypeError\u001b[0m: 'tuple' object does not support item assignment"
     ]
    }
   ],
   "source": [
    "#Tuple\n",
    "a=(1,1.0,'a')\n",
    "print(type(a))\n",
    "#Tuple is also called as read only list (because it is immutable)\n",
    "print(a[0])\n",
    "a[0]=7\n",
    "print(a)"
   ]
  },
  {
   "cell_type": "code",
   "execution_count": 29,
   "id": "2a017947",
   "metadata": {},
   "outputs": [
    {
     "name": "stdout",
     "output_type": "stream",
     "text": [
      "[7, 2, 3, 4]\n",
      "(7, 2, 3, 4)\n"
     ]
    }
   ],
   "source": [
    "a=(1,2,3,4)\n",
    "b=list(a)\n",
    "b[0]=7\n",
    "print(b)\n",
    "print(tuple(b))"
   ]
  },
  {
   "cell_type": "code",
   "execution_count": 31,
   "id": "04b32b2d",
   "metadata": {},
   "outputs": [
    {
     "name": "stdout",
     "output_type": "stream",
     "text": [
      "<class 'tuple'>\n"
     ]
    }
   ],
   "source": [
    "a=(1,)\n",
    "print(type(a))"
   ]
  },
  {
   "cell_type": "code",
   "execution_count": 7,
   "id": "6e31bbbe",
   "metadata": {},
   "outputs": [
    {
     "name": "stdout",
     "output_type": "stream",
     "text": [
      "20\n",
      "60\n",
      "(40, 60)\n",
      "(20, 40, 60, 'apple', 'ball', 2, 4)\n"
     ]
    }
   ],
   "source": [
    "#Tuple operations\n",
    "\n",
    "#Indexing\t\n",
    "a = (20, 40, 60, \"apple\", \"ball\")\n",
    "print(a[0]) # Result: 20\n",
    "print(a[2]) # Result: 60\n",
    "#Slicing\t\n",
    "print(a[1:3]) #Result: (40,60)\n",
    "#Concatenation\t\n",
    "b = (2, 4)\n",
    "print(a + b) #Result: (20, 40, 60, \"apple\", \"ball\", 2, 4)"
   ]
  },
  {
   "cell_type": "code",
   "execution_count": null,
   "id": "a9f6a50b",
   "metadata": {},
   "outputs": [],
   "source": []
  },
  {
   "cell_type": "code",
   "execution_count": 8,
   "id": "b4d08eec",
   "metadata": {},
   "outputs": [
    {
     "name": "stdout",
     "output_type": "stream",
     "text": [
      "(2, 4, 2, 4)\n"
     ]
    }
   ],
   "source": [
    "#Repetition\t\n",
    "b = (2, 4)\n",
    "print(b * 2) # Result: (2, 4, 2, 4)"
   ]
  },
  {
   "cell_type": "code",
   "execution_count": 9,
   "id": "38b877b1",
   "metadata": {},
   "outputs": [
    {
     "name": "stdout",
     "output_type": "stream",
     "text": [
      "True\n",
      "False\n",
      "False\n"
     ]
    }
   ],
   "source": [
    "#Membership\t\n",
    "a = (2, 3, 4, 5, 6, 7, 8, 9, 10)\n",
    "print(5 in a) # Result: True\n",
    "print(100 in a) # Result: False\n",
    "print(2 not in a) # Result: False"
   ]
  },
  {
   "cell_type": "code",
   "execution_count": 10,
   "id": "b49ea3f5",
   "metadata": {},
   "outputs": [
    {
     "name": "stdout",
     "output_type": "stream",
     "text": [
      "False\n",
      "True\n"
     ]
    }
   ],
   "source": [
    "#Comparison\t\n",
    "a = (2, 3, 4, 5, 6, 7, 8, 9, 10)\n",
    "b = (2, 3, 4)\n",
    "print(a == b) # Result: False\n",
    "print(a != b) # Result: True"
   ]
  },
  {
   "cell_type": "code",
   "execution_count": 18,
   "id": "6217b2bf",
   "metadata": {},
   "outputs": [
    {
     "name": "stdout",
     "output_type": "stream",
     "text": [
      "True\n",
      "False\n",
      "True\n"
     ]
    }
   ],
   "source": [
    "#inbuilt function\n",
    "\n",
    "print(all((' ', ',', '1', '2'))) # Result: True\n",
    "print(all((False,' ', ',', '1'))) # Result: False\n",
    "print(any((' ', ',', '1', '2'))) # Result: True\n"
   ]
  },
  {
   "cell_type": "code",
   "execution_count": 19,
   "id": "ed4ad84f",
   "metadata": {},
   "outputs": [
    {
     "name": "stdout",
     "output_type": "stream",
     "text": [
      "((0, 1), (1, 2), (2, 3), (3, 4), (4, 5), (5, 6))\n"
     ]
    }
   ],
   "source": [
    "x = (1, 2, 3, 4, 5, 6)\n",
    "print(tuple(enumerate(x)))"
   ]
  },
  {
   "cell_type": "code",
   "execution_count": 20,
   "id": "931f445f",
   "metadata": {},
   "outputs": [
    {
     "name": "stdout",
     "output_type": "stream",
     "text": [
      "6\n"
     ]
    }
   ],
   "source": [
    "x = (1, 2, 3, 4, 5, 6)\n",
    "print(len(x)) # Result: 6"
   ]
  },
  {
   "cell_type": "code",
   "execution_count": 21,
   "id": "7df6c824",
   "metadata": {},
   "outputs": [
    {
     "name": "stdout",
     "output_type": "stream",
     "text": [
      "6\n"
     ]
    }
   ],
   "source": [
    "print(max((1, 2, 3, 4, 5, 6))) "
   ]
  },
  {
   "cell_type": "code",
   "execution_count": 22,
   "id": "ca4e3f43",
   "metadata": {},
   "outputs": [
    {
     "name": "stdout",
     "output_type": "stream",
     "text": [
      "1\n"
     ]
    }
   ],
   "source": [
    "print(min((1, 2, 3, 4, 5, 6))) # Result: 1"
   ]
  },
  {
   "cell_type": "code",
   "execution_count": 23,
   "id": "b9ff8431",
   "metadata": {},
   "outputs": [
    {
     "name": "stdout",
     "output_type": "stream",
     "text": [
      "[1, 1, 3, 4, 5, 7, 9, 27]\n",
      "(1, 5, 3, 4, 7, 9, 1, 27)\n"
     ]
    }
   ],
   "source": [
    "origtup = (1, 5, 3, 4, 7, 9, 1, 27)\n",
    "sorttup = sorted(origtup)\n",
    "print(sorttup) # Result: [1, 1, 3, 4, 5, 7, 9, 27]\n",
    "print(origtup) # Result: (1, 5, 3, 4, 7, 9, 1, 27)"
   ]
  },
  {
   "cell_type": "code",
   "execution_count": 24,
   "id": "52a8a103",
   "metadata": {},
   "outputs": [
    {
     "name": "stdout",
     "output_type": "stream",
     "text": [
      "57\n"
     ]
    },
    {
     "ename": "TypeError",
     "evalue": "unsupported operand type(s) for +: 'int' and 'str'",
     "output_type": "error",
     "traceback": [
      "\u001b[1;31m---------------------------------------------------------------------------\u001b[0m",
      "\u001b[1;31mTypeError\u001b[0m                                 Traceback (most recent call last)",
      "Input \u001b[1;32mIn [24]\u001b[0m, in \u001b[0;36m<cell line: 2>\u001b[1;34m()\u001b[0m\n\u001b[0;32m      1\u001b[0m \u001b[38;5;28mprint\u001b[39m(\u001b[38;5;28msum\u001b[39m((\u001b[38;5;241m1\u001b[39m, \u001b[38;5;241m5\u001b[39m, \u001b[38;5;241m3\u001b[39m, \u001b[38;5;241m4\u001b[39m, \u001b[38;5;241m7\u001b[39m, \u001b[38;5;241m9\u001b[39m, \u001b[38;5;241m1\u001b[39m, \u001b[38;5;241m27\u001b[39m))) \u001b[38;5;66;03m# Result: 57\u001b[39;00m\n\u001b[1;32m----> 2\u001b[0m \u001b[38;5;28mprint\u001b[39m(\u001b[38;5;28;43msum\u001b[39;49m\u001b[43m(\u001b[49m\u001b[43m(\u001b[49m\u001b[38;5;241;43m1\u001b[39;49m\u001b[43m,\u001b[49m\u001b[43m \u001b[49m\u001b[38;5;241;43m3\u001b[39;49m\u001b[43m,\u001b[49m\u001b[43m \u001b[49m\u001b[38;5;241;43m5\u001b[39;49m\u001b[43m,\u001b[49m\u001b[43m \u001b[49m\u001b[38;5;124;43m'\u001b[39;49m\u001b[38;5;124;43ma\u001b[39;49m\u001b[38;5;124;43m'\u001b[39;49m\u001b[43m,\u001b[49m\u001b[43m \u001b[49m\u001b[38;5;124;43m'\u001b[39;49m\u001b[38;5;124;43mb\u001b[39;49m\u001b[38;5;124;43m'\u001b[39;49m\u001b[43m,\u001b[49m\u001b[43m \u001b[49m\u001b[38;5;241;43m4\u001b[39;49m\u001b[43m,\u001b[49m\u001b[43m \u001b[49m\u001b[38;5;241;43m6\u001b[39;49m\u001b[43m,\u001b[49m\u001b[43m \u001b[49m\u001b[38;5;241;43m7\u001b[39;49m\u001b[43m)\u001b[49m\u001b[43m)\u001b[49m)\n",
      "\u001b[1;31mTypeError\u001b[0m: unsupported operand type(s) for +: 'int' and 'str'"
     ]
    }
   ],
   "source": [
    "print(sum((1, 5, 3, 4, 7, 9, 1, 27))) # Result: 57\n",
    "print(sum((1, 3, 5, 'a', 'b', 4, 6, 7)))"
   ]
  },
  {
   "cell_type": "code",
   "execution_count": null,
   "id": "f61d9042",
   "metadata": {},
   "outputs": [],
   "source": []
  }
 ],
 "metadata": {
  "kernelspec": {
   "display_name": "Python 3 (ipykernel)",
   "language": "python",
   "name": "python3"
  },
  "language_info": {
   "codemirror_mode": {
    "name": "ipython",
    "version": 3
   },
   "file_extension": ".py",
   "mimetype": "text/x-python",
   "name": "python",
   "nbconvert_exporter": "python",
   "pygments_lexer": "ipython3",
   "version": "3.9.12"
  }
 },
 "nbformat": 4,
 "nbformat_minor": 5
}
