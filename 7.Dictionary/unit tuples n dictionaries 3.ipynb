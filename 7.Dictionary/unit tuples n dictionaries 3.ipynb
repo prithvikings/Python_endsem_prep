{
 "cells": [
  {
   "cell_type": "code",
   "execution_count": 2,
   "id": "7a9fe16f",
   "metadata": {},
   "outputs": [
    {
     "name": "stdout",
     "output_type": "stream",
     "text": [
      "<class 'tuple'>\n",
      "[1, 2, 3, 4, 5]\n",
      "<class 'list'>\n"
     ]
    }
   ],
   "source": [
    "#tuples- read only list(immutable )\n",
    "a = (1, 2, 3, 4, 5)\n",
    "print(type(a))\n",
    "a = list(a)\n",
    "\n",
    "print(a)\n",
    "print(type(a))"
   ]
  },
  {
   "cell_type": "code",
   "execution_count": null,
   "id": "adaccbf0",
   "metadata": {},
   "outputs": [],
   "source": []
  },
  {
   "cell_type": "code",
   "execution_count": 2,
   "id": "514b2477",
   "metadata": {},
   "outputs": [
    {
     "name": "stdout",
     "output_type": "stream",
     "text": [
      "(1, 2, 3, 4, 5)\n"
     ]
    }
   ],
   "source": [
    "a = [1, 2, 3, 4, 5]\n",
    "a = tuple(a)\n",
    "print(a)"
   ]
  },
  {
   "cell_type": "code",
   "execution_count": null,
   "id": "556d54b1",
   "metadata": {},
   "outputs": [
    {
     "ename": "",
     "evalue": "",
     "output_type": "error",
     "traceback": [
      "\u001b[1;31mRunning cells with 'c:\\Program Files\\Python311\\python.exe' requires the ipykernel package.\n",
      "\u001b[1;31mRun the following command to install 'ipykernel' into the Python environment. \n",
      "\u001b[1;31mCommand: '\"c:/Program Files/Python311/python.exe\" -m pip install ipykernel -U --user --force-reinstall'"
     ]
    }
   ],
   "source": [
    "a=(1,2,3,4,5)\n",
    "\n",
    "a=list(a)\n",
    "a[0]=6\n",
    "print(tuple(a))"
   ]
  },
  {
   "cell_type": "code",
   "execution_count": 3,
   "id": "d83b0501",
   "metadata": {},
   "outputs": [
    {
     "name": "stdout",
     "output_type": "stream",
     "text": [
      "(1, 2, 3, [42, 5], 5)\n"
     ]
    }
   ],
   "source": [
    "t1 = (1, 2, 3, [4, 5], 5)\n",
    "t1[3][0] = 42\n",
    "print(t1)"
   ]
  },
  {
   "cell_type": "code",
   "execution_count": 4,
   "id": "1fed40ea",
   "metadata": {},
   "outputs": [
    {
     "name": "stdout",
     "output_type": "stream",
     "text": [
      "data: 1,2,3\n",
      "list: ['1', '2', '3']\n",
      "tuple: ('1', '2', '3')\n"
     ]
    }
   ],
   "source": [
    "#Write a program to convert a user-given list into a tuple, and print the result\n",
    "data = input(\"data: \") # 1,2,3\n",
    "list1 = data.split(\",\") # [\"1\",\"2\",\"3\"]\n",
    "tuple1 = tuple(list1)\n",
    "print(\"list:\", list1)\n",
    "print(\"tuple:\", tuple1)"
   ]
  },
  {
   "cell_type": "code",
   "execution_count": 11,
   "id": "441833b5",
   "metadata": {},
   "outputs": [
    {
     "name": "stdout",
     "output_type": "stream",
     "text": [
      "<class 'tuple'>\n"
     ]
    },
    {
     "data": {
      "text/plain": [
       "tuple"
      ]
     },
     "execution_count": 11,
     "metadata": {},
     "output_type": "execute_result"
    }
   ],
   "source": [
    "#Operations on tuples\n",
    "a = (20, 40, 60, \"apple\", \"ball\")\n",
    "print(type(a))\n",
    "t1 = (1,)\n",
    "type(t1)"
   ]
  },
  {
   "cell_type": "code",
   "execution_count": 6,
   "id": "bd736738",
   "metadata": {},
   "outputs": [
    {
     "name": "stdout",
     "output_type": "stream",
     "text": [
      "20\n",
      "60\n"
     ]
    },
    {
     "data": {
      "text/plain": [
       "60"
      ]
     },
     "execution_count": 6,
     "metadata": {},
     "output_type": "execute_result"
    }
   ],
   "source": [
    "#indexing\n",
    "print(a[0])\n",
    "20\n",
    "print(a[2])\n",
    "60"
   ]
  },
  {
   "cell_type": "code",
   "execution_count": 7,
   "id": "e6155880",
   "metadata": {},
   "outputs": [
    {
     "name": "stdout",
     "output_type": "stream",
     "text": [
      "(40, 60)\n"
     ]
    }
   ],
   "source": [
    "#slicing\n",
    "print(a[1:3])"
   ]
  },
  {
   "cell_type": "code",
   "execution_count": 8,
   "id": "1e9b59f7",
   "metadata": {},
   "outputs": [
    {
     "name": "stdout",
     "output_type": "stream",
     "text": [
      "(20, 40, 60, 'apple', 'ball', 2, 4)\n"
     ]
    }
   ],
   "source": [
    "#concatenation\n",
    "b = (2, 4)\n",
    "print(a + b)"
   ]
  },
  {
   "cell_type": "code",
   "execution_count": 12,
   "id": "a503f57a",
   "metadata": {},
   "outputs": [
    {
     "name": "stdout",
     "output_type": "stream",
     "text": [
      "(2, 4, 2, 4)\n"
     ]
    }
   ],
   "source": [
    "#Repetition\n",
    "b = (2, 4)\n",
    "print(b * 2)"
   ]
  },
  {
   "cell_type": "code",
   "execution_count": 10,
   "id": "59907885",
   "metadata": {},
   "outputs": [
    {
     "name": "stdout",
     "output_type": "stream",
     "text": [
      "True\n"
     ]
    }
   ],
   "source": [
    "#membership\n",
    "a = (2, 3, 4, 5, 6, 7, 8, 9, 10)\n",
    "print(5 in a)"
   ]
  },
  {
   "cell_type": "code",
   "execution_count": 11,
   "id": "1bf335af",
   "metadata": {},
   "outputs": [
    {
     "name": "stdout",
     "output_type": "stream",
     "text": [
      "False\n"
     ]
    }
   ],
   "source": [
    "#comparision\n",
    "a = (2, 3, 4, 5, 6, 7, 8, 9, 10)\n",
    "b = (2, 3, 4)\n",
    "print(a == b)"
   ]
  },
  {
   "cell_type": "code",
   "execution_count": null,
   "id": "fca14d0c",
   "metadata": {},
   "outputs": [],
   "source": [
    "'''Create a tuple with the user-given inputs. Take an index n from the user.\n",
    "Write a program to print the tuple element at index n, and print the result as shown in the examples. \n",
    "If the given index range is not in the tuple print the error message'''\n",
    "data = input(\"data: \") # 1,2,3\n",
    "list1 = data.split(\",\") # [\"1\",\"2\",\"3\"]\n",
    "print(\"list:\", list1)\n",
    "mytuple = tuple(list1) #(1,2,3)\n",
    "print(\"tuple:\", mytuple)\n",
    "index = int(input(\"index: \"))#index=4\n",
    "size = len(mytuple)#size=3\n",
    "if index < len(mytuple) and index>=-(len(mytuple)): #-4>=-3\n",
    "\tvalue = mytuple[index] #mytuple[2]\n",
    "\tprint(\"element:\", value)\n",
    "else:\n",
    "\tprint(\"enter valid index\")"
   ]
  },
  {
   "cell_type": "code",
   "execution_count": 13,
   "id": "17ec2af3",
   "metadata": {},
   "outputs": [
    {
     "name": "stdout",
     "output_type": "stream",
     "text": [
      "data: 1,2,3,4\n",
      "tuple: ('1', '2', '3', '4')\n",
      "index: 3\n",
      "after removing: ('1', '2', '3')\n"
     ]
    }
   ],
   "source": [
    "'''Write a program to remove an element from the tuple based \n",
    "on the user-given index, \n",
    "and print the result as shown in the example'''\n",
    "data = input(\"data: \")#1,2,3,4\n",
    "list1 = data.split(\",\")# list=[1,2,3,4]\n",
    "tuple1 = tuple(list1)#tuple1=(1,2,3,4)\n",
    "print(\"tuple:\", tuple1)\n",
    "index = int(input(\"index: \"))#index=2\n",
    "size = len(tuple1)#size=4\n",
    "if index != -1: #2!=-1(True)\n",
    "\tif index < len(tuple1) and index >= -(size):\n",
    "\t\ttuple2 = tuple1[:index] + tuple1[index + 1:]# tuple1[:2]+tuple1[3:]\n",
    "\t\tprint(\"after removing:\", tuple2)\n",
    "\telse:\n",
    "\t\tprint(\"enter valid index\")\n",
    "else:\n",
    "\tprint(\"after removing:\", tuple1[:index]) #tuple1[:-1]"
   ]
  },
  {
   "cell_type": "code",
   "execution_count": 14,
   "id": "357aa381",
   "metadata": {},
   "outputs": [
    {
     "name": "stdout",
     "output_type": "stream",
     "text": [
      "True\n"
     ]
    }
   ],
   "source": [
    "#built in tuple functions\n",
    "print(all((' ', ',', '1', '2')))"
   ]
  },
  {
   "cell_type": "code",
   "execution_count": 15,
   "id": "1b469377",
   "metadata": {},
   "outputs": [
    {
     "name": "stdout",
     "output_type": "stream",
     "text": [
      "True\n"
     ]
    }
   ],
   "source": [
    "print(any((' ', ',', '1', '2')))"
   ]
  },
  {
   "cell_type": "code",
   "execution_count": 16,
   "id": "29437c71",
   "metadata": {},
   "outputs": [
    {
     "name": "stdout",
     "output_type": "stream",
     "text": [
      "((0, 1), (1, 2), (2, 3), (3, 4), (4, 5), (5, 6))\n"
     ]
    }
   ],
   "source": [
    "x = (1, 2, 3, 4, 5, 6)\n",
    "print(tuple(enumerate(x)))"
   ]
  },
  {
   "cell_type": "code",
   "execution_count": 17,
   "id": "b34dc4a4",
   "metadata": {},
   "outputs": [
    {
     "name": "stdout",
     "output_type": "stream",
     "text": [
      "6\n"
     ]
    }
   ],
   "source": [
    "x = (1, 2, 3, 4, 5, 6)\n",
    "print(len(x))"
   ]
  },
  {
   "cell_type": "code",
   "execution_count": 18,
   "id": "5b7ede2a",
   "metadata": {},
   "outputs": [
    {
     "name": "stdout",
     "output_type": "stream",
     "text": [
      "6\n"
     ]
    }
   ],
   "source": [
    "print(max((1, 2, 3, 4, 5, 6)))"
   ]
  },
  {
   "cell_type": "code",
   "execution_count": 19,
   "id": "019bb1a5",
   "metadata": {},
   "outputs": [
    {
     "name": "stdout",
     "output_type": "stream",
     "text": [
      "1\n"
     ]
    }
   ],
   "source": [
    "print(min((1, 2, 3, 4, 5, 6)))"
   ]
  },
  {
   "cell_type": "code",
   "execution_count": 20,
   "id": "d4742663",
   "metadata": {},
   "outputs": [
    {
     "name": "stdout",
     "output_type": "stream",
     "text": [
      "[1, 1, 3, 4, 5, 7, 9, 27]\n"
     ]
    }
   ],
   "source": [
    "origtup = (1, 5, 3, 4, 7, 9, 1, 27)\n",
    "sorttup = sorted(origtup)\n",
    "print(sorttup)"
   ]
  },
  {
   "cell_type": "code",
   "execution_count": 21,
   "id": "4ae005c2",
   "metadata": {},
   "outputs": [
    {
     "name": "stdout",
     "output_type": "stream",
     "text": [
      "57\n"
     ]
    }
   ],
   "source": [
    "print(sum((1, 5, 3, 4, 7, 9, 1, 27)))"
   ]
  },
  {
   "cell_type": "code",
   "execution_count": 22,
   "id": "cd8fc987",
   "metadata": {},
   "outputs": [
    {
     "name": "stdout",
     "output_type": "stream",
     "text": [
      "['a', 'b', 'c', 'd', 'e', 'f']\n"
     ]
    }
   ],
   "source": [
    "x = list(\"abcdef\")\n",
    "print(x)"
   ]
  },
  {
   "cell_type": "code",
   "execution_count": 23,
   "id": "dc6c7975",
   "metadata": {},
   "outputs": [
    {
     "name": "stdout",
     "output_type": "stream",
     "text": [
      "data: 1,2,3\n",
      "tuple: ('1', '2', '3')\n",
      "element: 1\n",
      "existed 1 times\n"
     ]
    }
   ],
   "source": [
    "'''Write a program to find how many times a given element occurred in a tuple'''\n",
    "data = input(\"data: \") # 1,2,3\n",
    "list1 = data.split(\",\")#[\"1\",\"2\",\"3\"]\n",
    "tuple1 = tuple(list1)#(\"1\",\"2\",\"3\")\n",
    "print(\"tuple:\", tuple1)\n",
    "value = input(\"element: \")#value=7\n",
    "if value in tuple1: #1 in tuple:\n",
    "\tcounter = tuple1.count(value)#tuple1.count(1)\n",
    "\tprint(\"existed\", counter, \"times\")\n",
    "else:\n",
    "\tprint(\"enter valid element\")"
   ]
  },
  {
   "cell_type": "code",
   "execution_count": 24,
   "id": "23564c4c",
   "metadata": {},
   "outputs": [
    {
     "name": "stdout",
     "output_type": "stream",
     "text": [
      "{'Jan': 1, 'Feb': 2, 'Mar': 3, 'Apr': 4, 'May': 5, 'Jun': 6}\n",
      "<class 'dict'>\n"
     ]
    }
   ],
   "source": [
    "#dictionary\n",
    "month = {'Jan':1, 'Feb':2, 'Mar':3, 'Apr':4, 'May':5, 'Jun':6}\n",
    "print(month)\n",
    "print(type(month))"
   ]
  },
  {
   "cell_type": "code",
   "execution_count": 25,
   "id": "296f2fe9",
   "metadata": {},
   "outputs": [
    {
     "name": "stdout",
     "output_type": "stream",
     "text": [
      "{'one': 1, 'two': 2, 'three': 3, 'four': 4}\n"
     ]
    }
   ],
   "source": [
    "d = dict([('one', 1), ('two', 2), ('three', 3), ('four', 4)])\n",
    "print(d)"
   ]
  },
  {
   "cell_type": "code",
   "execution_count": 26,
   "id": "7bbb4316",
   "metadata": {},
   "outputs": [
    {
     "name": "stdout",
     "output_type": "stream",
     "text": [
      "New Delhi\n"
     ]
    }
   ],
   "source": [
    "#dictionary operations\n",
    "capitals = {\"U.S.A\" : \"Washington D.C\", \"India\" : \"New Delhi\", \"Nepal\" : \"Kathmandu\"}\n",
    "print(capitals[\"India\"])"
   ]
  },
  {
   "cell_type": "code",
   "execution_count": 27,
   "id": "3a4a7718",
   "metadata": {},
   "outputs": [
    {
     "name": "stdout",
     "output_type": "stream",
     "text": [
      "New Delhi\n"
     ]
    }
   ],
   "source": [
    "capitals = {\"U.S.A\" : \"Washington D.C\", \"India\" : \"New Delhi\", \"Nepal\" : \"Kathmandu\"} \n",
    "print(capitals.get(\"India\"))"
   ]
  },
  {
   "cell_type": "code",
   "execution_count": 2,
   "id": "b3f147a4",
   "metadata": {},
   "outputs": [
    {
     "name": "stdout",
     "output_type": "stream",
     "text": [
      "New Delhi\n",
      "{'U.S.A': 'Washington D.C', 'India': 'ABC', 'Nepal': 'Kathmandu'}\n",
      "{'U.S.A': 'Washington D.C', 'India': 'ABC', 'Nepal': 'Kathmandu', 'Abc': 'XYZ'}\n"
     ]
    }
   ],
   "source": [
    "#update the values\n",
    "capitals = {\"U.S.A\" : \"Washington D.C\", \"India\" : \"New Delhi\", \"Nepal\" : \"Kathmandu\"} \n",
    "print(capitals.get(\"India\"))\n",
    "capitals[\"India\"]=\"ABC\"\n",
    "print(capitals)\n",
    "capitals[\"Abc\"]=\"XYZ\"\n",
    "print(capitals)"
   ]
  },
  {
   "cell_type": "code",
   "execution_count": 5,
   "id": "4bd11661",
   "metadata": {},
   "outputs": [
    {
     "name": "stdout",
     "output_type": "stream",
     "text": [
      "{10: 'Ten', 20: 'Twenty', 30: 'Thirty'}\n",
      "[10, 20, 30]\n",
      "[(10, 'Ten'), (20, 'Twenty'), (30, 'Thirty')]\n"
     ]
    }
   ],
   "source": [
    "#how to create a dictionary by using two lists.\n",
    "#syntax=dict(zip(list1, list2))\n",
    "list1 = [10,20,30]\n",
    "list2 = [\"Ten\",\"Twenty\",\"Thirty\"]\n",
    "mydict = dict((zip(list1,list2)))\n",
    "print(mydict)\n",
    "print(sorted(mydict))\n",
    "print(sorted(mydict.items())) #return key value pairs in the form of list of tuples\n"
   ]
  },
  {
   "cell_type": "code",
   "execution_count": 1,
   "id": "85dd9ce9",
   "metadata": {},
   "outputs": [
    {
     "name": "stdout",
     "output_type": "stream",
     "text": [
      "True\n"
     ]
    }
   ],
   "source": [
    "#built-in dictionary functions\n",
    "dict1 = {1:'alpha', 2:'beta', 3:'gamma', 4:'music'}\n",
    "print(all(dict1))"
   ]
  },
  {
   "cell_type": "code",
   "execution_count": 2,
   "id": "1817ca4c",
   "metadata": {},
   "outputs": [
    {
     "name": "stdout",
     "output_type": "stream",
     "text": [
      "True\n"
     ]
    }
   ],
   "source": [
    "dict2 = {1:'alpha', 2:'', '':'gamma', 4:'music'}\n",
    "print(any(dict2))"
   ]
  },
  {
   "cell_type": "code",
   "execution_count": 3,
   "id": "315a8e67",
   "metadata": {},
   "outputs": [
    {
     "name": "stdout",
     "output_type": "stream",
     "text": [
      "4\n"
     ]
    }
   ],
   "source": [
    "dict1 =  {1:'alpha', 2:'beta', 3:'gamma', 4:'music'}\n",
    "print(len(dict1))"
   ]
  },
  {
   "cell_type": "code",
   "execution_count": 4,
   "id": "f5e4c2c0",
   "metadata": {},
   "outputs": [
    {
     "name": "stdout",
     "output_type": "stream",
     "text": [
      "[1, 2, 3, 4, 6]\n"
     ]
    }
   ],
   "source": [
    "dict1 =  {2:'alpha', 3:'beta', 1:'gamma', 4:'music', 6:'video'}\n",
    "sortlist = sorted(dict1)\n",
    "print(sortlist)"
   ]
  },
  {
   "cell_type": "code",
   "execution_count": 5,
   "id": "a3a0ae41",
   "metadata": {},
   "outputs": [
    {
     "name": "stdout",
     "output_type": "stream",
     "text": [
      "data1: 1,2,3\n",
      "data2: one,two,three\n",
      "before exchange: [('1', 'one'), ('2', 'two'), ('3', 'three')]\n",
      "after exchange: [('one', '1'), ('three', '3'), ('two', '2')]\n"
     ]
    }
   ],
   "source": [
    "'''Write a program to change Dictionary keys into values and \n",
    "values into keys, and print the result as shown in the example.\n",
    "\n",
    "Sample Input and Output:\n",
    "data1: 1,2,3\n",
    "data2: One,Two,Three\n",
    "before exchange: [('1', 'One'), ('2', 'Two'), ('3', 'Three')]\n",
    "after exchange: [('One', '1'), ('Three', '3'), ('Two', '2')]'''\n",
    "data1 = input(\"data1: \") #1,2,3\n",
    "data2 = input(\"data2: \") #One,Two,Three\n",
    "list1 = data1.split(\",\") #['1','2','3']\n",
    "list2 = data2.split(\",\") #[ 'One','Two','Three']\n",
    "dict1 = dict(zip(list1, list2)) #dict1={1:'one',2:'Two','3':'Three'}\n",
    "d3 = dict() #d3={}\n",
    "for key in dict1:\n",
    "\td3[dict1[key]] = key\n",
    "print(\"before exchange:\", sorted(dict1.items()))\n",
    "print(\"after exchange:\", sorted(d3.items()))"
   ]
  },
  {
   "cell_type": "code",
   "execution_count": 3,
   "id": "418321fe",
   "metadata": {},
   "outputs": [
    {
     "name": "stdout",
     "output_type": "stream",
     "text": [
      "1,2,3\n",
      "One,Two,Three\n",
      "before exchange [('1', 'One'), ('2', 'Two'), ('3', 'Three')]\n",
      "after exchange [('One', '1'), ('Two', '2'), ('Three', '3')]\n"
     ]
    }
   ],
   "source": [
    "'''Write a program to change Dictionary keys into values and values into keys, and print the result as shown in the example.\n",
    "\n",
    "Sample Input and Output:\n",
    "data1: 1,2,3\n",
    "data2: One,Two,Three\n",
    "before exchange: [('1', 'One'), ('2', 'Two'), ('3', 'Three')]\n",
    "after exchange: [('One', '1'), ('Three', '3'), ('Two', '2')]'''\n",
    "d=input() # 1,2,3\n",
    "data1=d.split(\",\")# [\"1\",\"2\",\"3\"]\n",
    "d1=input() # One,Two,Three\n",
    "data2=d1.split(\",\")# [\"One\",\"Two\",\"Three\"]\n",
    "print(\"before exchange\",list(zip(data1,data2)))\n",
    "print(\"after exchange\",list(zip(data2,data1)))"
   ]
  },
  {
   "cell_type": "code",
   "execution_count": 6,
   "id": "2a692fbb",
   "metadata": {},
   "outputs": [
    {
     "name": "stdout",
     "output_type": "stream",
     "text": [
      "seq: 1,2,3,5,6,1,2,3\n",
      "sorted dictionary: [(1, 2), (2, 2), (3, 2), (5, 1), (6, 1)]\n"
     ]
    }
   ],
   "source": [
    "'''Take an integer sequence from the user.\n",
    "Write a program to print a dictionary \n",
    "from the given sequence, consider the element in the sequence as a key,\n",
    "and the number of times the element \n",
    "occurs in the sequence as a value. Print the result as shown in the example.'''\n",
    "#Program to create dictionary of items and occurences\n",
    "seq = input(\"seq: \")\n",
    "list1 = seq.split(\",\")\n",
    "for i in range(len(list1)):\n",
    "\tlist1[i] = int(list1[i])\n",
    "tuple1 = tuple(list1)\n",
    "d = dict()\n",
    "for element in tuple1:\n",
    "\tif element not in d:\n",
    "\t\td[element] = 1\n",
    "\telse:\n",
    "\t\td[element] += 1\n",
    "print(\"sorted dictionary:\", sorted(d.items()))"
   ]
  },
  {
   "cell_type": "code",
   "execution_count": 13,
   "id": "abb0c7a7",
   "metadata": {},
   "outputs": [
    {
     "name": "stdout",
     "output_type": "stream",
     "text": [
      "data1,2,3,1,2,3\n"
     ]
    },
    {
     "data": {
      "text/plain": [
       "[('1', 2), ('2', 2), ('3', 2)]"
      ]
     },
     "execution_count": 13,
     "metadata": {},
     "output_type": "execute_result"
    }
   ],
   "source": [
    "data=input(\"data\")#1,2,3,1,2,3\n",
    "data1=data.split(\",\")#[1,2,3,1,2,3]\n",
    "d={}# {1:2, 2:2, 3:2}\n",
    "for i in range(0,len(data1)): #i=0,1,2\n",
    "    value=data1.count(data1[i])\n",
    "    d[data1[i]]=value# d[1]=2 ; d[2]=2\n",
    "sorted(d.items())   "
   ]
  },
  {
   "cell_type": "code",
   "execution_count": 7,
   "id": "1544355e",
   "metadata": {},
   "outputs": [
    {
     "name": "stdout",
     "output_type": "stream",
     "text": [
      "data1: 1,2,3\n",
      "data2: one,two,three\n",
      "data3: 4,5,6\n",
      "data4: four,five,six\n",
      "key: 6\n",
      "key present in second dictionary\n"
     ]
    }
   ],
   "source": [
    "'''Write a program to check the existence of keys in two dictionaries.\n",
    "If the user key is existing in the first dictionary then print key present in first dictionary\n",
    "and if key existing in the second dictionary then print key present in second dictionary\n",
    "if key is existing in both the dictionaries then print key present in both dictionaries,\n",
    "otherwise print key is not present in both the dictionaries'''\n",
    "#Program to check the existence of a key in 2 dictionaries\n",
    "data1 = input(\"data1: \")\n",
    "data2 = input(\"data2: \")\n",
    "list1 = data1.split(\",\")\n",
    "list2 = data2.split(\",\")\n",
    "dict1 = dict(zip(list1, list2))\n",
    "\n",
    "data3 = input(\"data3: \")\n",
    "data4 = input(\"data4: \")\n",
    "list3 = data3.split(\",\")\n",
    "list4 = data4.split(\",\")\n",
    "dict2 = dict(zip(list3, list4))\n",
    "\n",
    "kv = input(\"key: \")\n",
    "if(kv in dict1.keys() and kv in dict2.keys()):\n",
    "\tprint(\"key present in both dictionaries\")\n",
    "elif(kv in dict1.keys()):\n",
    "\tprint(\"key present in first dictionary\")\n",
    "elif(kv in dict2.keys()):\n",
    "\tprint(\"key present in second dictionary\")\n",
    "else:\n",
    "\tprint(\"key is not present\")"
   ]
  },
  {
   "cell_type": "code",
   "execution_count": 12,
   "id": "22c0e21b",
   "metadata": {},
   "outputs": [
    {
     "name": "stdout",
     "output_type": "stream",
     "text": [
      "3\n"
     ]
    }
   ],
   "source": [
    "#built-in dictionary methods\n",
    "emp = {'Name': 'Anil', 'Age':26, 'Exp':5}\n",
    "print(len(emp))\n",
    "#emp.clear()\n",
    "#print(len(emp))"
   ]
  },
  {
   "cell_type": "code",
   "execution_count": 13,
   "id": "14b6a893",
   "metadata": {},
   "outputs": [
    {
     "name": "stdout",
     "output_type": "stream",
     "text": [
      "{'apple': 'red', 'orange': 'orange', 'mango': 'yellow'}\n"
     ]
    }
   ],
   "source": [
    "fruits = {'apple':'red', 'orange':'orange', 'mango':'yellow'}\n",
    "dict2 = fruits.copy()\n",
    "print(dict2)"
   ]
  },
  {
   "cell_type": "code",
   "execution_count": 14,
   "id": "f443910c",
   "metadata": {},
   "outputs": [
    {
     "name": "stdout",
     "output_type": "stream",
     "text": [
      "{'one': 10, 'two': 10, 'three': 10}\n"
     ]
    }
   ],
   "source": [
    "Seq = ('one', 'two', 'three')\n",
    "dict = dict.fromkeys(Seq,10)\n",
    "print(str(dict))"
   ]
  },
  {
   "cell_type": "code",
   "execution_count": 16,
   "id": "71aef1c6",
   "metadata": {},
   "outputs": [
    {
     "name": "stdout",
     "output_type": "stream",
     "text": [
      "Value : 2 \n"
     ]
    }
   ],
   "source": [
    "dict = {'cyan':1, 'violet':2, 'green':3}\n",
    "print(\"Value : %s \" % dict.get('violet'))"
   ]
  },
  {
   "cell_type": "code",
   "execution_count": 17,
   "id": "2d95ed42",
   "metadata": {},
   "outputs": [
    {
     "name": "stdout",
     "output_type": "stream",
     "text": [
      "dict_items([('cyan', 1), ('violet', 2), ('green', 3)])\n"
     ]
    }
   ],
   "source": [
    "dict = {'cyan':1, 'violet':2, 'green':3}\n",
    "print(dict.items())"
   ]
  },
  {
   "cell_type": "code",
   "execution_count": 18,
   "id": "15bc59b9",
   "metadata": {},
   "outputs": [
    {
     "name": "stdout",
     "output_type": "stream",
     "text": [
      "dict_keys(['cyan', 'violet', 'green'])\n"
     ]
    }
   ],
   "source": [
    "dict = {'cyan':1, 'violet':2, 'green':3}\n",
    "print(dict.keys())"
   ]
  },
  {
   "cell_type": "code",
   "execution_count": 20,
   "id": "4438fd13",
   "metadata": {},
   "outputs": [
    {
     "name": "stdout",
     "output_type": "stream",
     "text": [
      "{'1': 'one', '2': 'two', '3': 'three', 'violet': 10, 'red': 10}\n"
     ]
    }
   ],
   "source": [
    "ict1 = {'cyan':1, 'violet':2, 'green':3}\n",
    "dict1.setdefault('violet', 10)\n",
    "dict1.setdefault('red', 10)\n",
    "print(dict1)"
   ]
  },
  {
   "cell_type": "code",
   "execution_count": 21,
   "id": "8f73bcb3",
   "metadata": {},
   "outputs": [
    {
     "name": "stdout",
     "output_type": "stream",
     "text": [
      "{'cyan': 1, 'violet': 2, 'green': 3, 'red': 4, 'white': 5}\n"
     ]
    }
   ],
   "source": [
    "dict1 = {'cyan':1, 'violet':2, 'green':3}\n",
    "dict2 = {'red':4, 'white':5}\n",
    "dict1.update(dict2)\n",
    "print(dict1)"
   ]
  },
  {
   "cell_type": "code",
   "execution_count": 22,
   "id": "bef2c951",
   "metadata": {},
   "outputs": [
    {
     "data": {
      "text/plain": [
       "dict_values([1, 2, 3, 4])"
      ]
     },
     "execution_count": 22,
     "metadata": {},
     "output_type": "execute_result"
    }
   ],
   "source": [
    "dict1 = {'cyan': 1, 'violet': 2, 'green': 3, 'red': 4}\n",
    "dict1.values()"
   ]
  },
  {
   "cell_type": "code",
   "execution_count": 23,
   "id": "cfa55a03",
   "metadata": {},
   "outputs": [
    {
     "name": "stdout",
     "output_type": "stream",
     "text": [
      "{0: 10, 1: 20, 2: 30}\n"
     ]
    }
   ],
   "source": [
    "#Dictionary comprehension\n",
    "#syntax {key : value for (key , value) in iterable}\n",
    "list1 = [10, 20, 30]\n",
    "\n",
    "dict1 = {key : value for key, value in enumerate(list1)}\n",
    "\n",
    "print(dict1)"
   ]
  },
  {
   "cell_type": "code",
   "execution_count": 24,
   "id": "adb813dd",
   "metadata": {},
   "outputs": [
    {
     "name": "stdout",
     "output_type": "stream",
     "text": [
      "{1: 1, 2: 4, 3: 9, 4: 16, 5: 25, 6: 36, 7: 49, 8: 64, 9: 81, 10: 100}\n"
     ]
    }
   ],
   "source": [
    "dict2 = {i : i ** 2 for i in range(1, 11)}\n",
    "print(dict2)"
   ]
  },
  {
   "cell_type": "code",
   "execution_count": 25,
   "id": "a197343c",
   "metadata": {},
   "outputs": [
    {
     "name": "stdout",
     "output_type": "stream",
     "text": [
      "{'C': 'python', 'o': 'python', 'd': 'python', 'e': 'python', 'T': 'python', 'a': 'python', 'n': 'python', 't': 'python', 'r': 'python'}\n"
     ]
    }
   ],
   "source": [
    "dict1 = {k:\"python\" for k in \"CodeTantra\"}\n",
    "\n",
    "print(dict1)"
   ]
  },
  {
   "cell_type": "code",
   "execution_count": null,
   "id": "a4533cf8",
   "metadata": {},
   "outputs": [],
   "source": []
  }
 ],
 "metadata": {
  "kernelspec": {
   "display_name": "Python 3 (ipykernel)",
   "language": "python",
   "name": "python3"
  },
  "language_info": {
   "codemirror_mode": {
    "name": "ipython",
    "version": 3
   },
   "file_extension": ".py",
   "mimetype": "text/x-python",
   "name": "python",
   "nbconvert_exporter": "python",
   "pygments_lexer": "ipython3",
   "version": "3.11.4"
  }
 },
 "nbformat": 4,
 "nbformat_minor": 5
}
