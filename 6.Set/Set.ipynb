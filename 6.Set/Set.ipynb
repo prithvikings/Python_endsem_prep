{
 "cells": [
  {
   "cell_type": "code",
   "execution_count": 20,
   "id": "10bfe8c1",
   "metadata": {},
   "outputs": [
    {
     "name": "stdout",
     "output_type": "stream",
     "text": [
      "{1, 2, 3, 4, 5}\n"
     ]
    }
   ],
   "source": [
    "#set\n",
    "#set is also a complex data type and it also has unordered set of elements\n",
    "#set contains unique elements\n",
    "numset = {1, 2, 3, 4, 5, 3, 2}\n",
    "print(numset)"
   ]
  },
  {
   "cell_type": "code",
   "execution_count": 22,
   "id": "2af21405",
   "metadata": {},
   "outputs": [
    {
     "name": "stdout",
     "output_type": "stream",
     "text": [
      "{1, 2, 3, 4, 5}\n"
     ]
    }
   ],
   "source": [
    "numset2 = set([1, 2, 3, 2, 4, 5])\n",
    "print(numset2)         # Result: {1, 2, 3, 4, 5}\n",
    "\n"
   ]
  },
  {
   "cell_type": "code",
   "execution_count": 1,
   "id": "9200b67b",
   "metadata": {},
   "outputs": [
    {
     "name": "stdout",
     "output_type": "stream",
     "text": [
      "<class 'set'>\n"
     ]
    }
   ],
   "source": [
    "set1 = set(((\"C\", \"C++\"), (\"Java\", \"OOPS\")))\n",
    "print(type(set1))"
   ]
  },
  {
   "cell_type": "code",
   "execution_count": 2,
   "id": "4d3fef84",
   "metadata": {},
   "outputs": [
    {
     "ename": "TypeError",
     "evalue": "unhashable type: 'list'",
     "output_type": "error",
     "traceback": [
      "\u001b[1;31m---------------------------------------------------------------------------\u001b[0m",
      "\u001b[1;31mTypeError\u001b[0m                                 Traceback (most recent call last)",
      "Input \u001b[1;32mIn [2]\u001b[0m, in \u001b[0;36m<cell line: 3>\u001b[1;34m()\u001b[0m\n\u001b[0;32m      1\u001b[0m \u001b[38;5;66;03m#set is mutable datatype\u001b[39;00m\n\u001b[0;32m      2\u001b[0m \u001b[38;5;66;03m#the elements inside the set are immutable-int,str\u001b[39;00m\n\u001b[1;32m----> 3\u001b[0m a\u001b[38;5;241m=\u001b[39m{\u001b[38;5;241m1\u001b[39m,\u001b[38;5;241m2\u001b[39m,[\u001b[38;5;241m3\u001b[39m]}\n\u001b[0;32m      4\u001b[0m \u001b[38;5;28mprint\u001b[39m(a)\n",
      "\u001b[1;31mTypeError\u001b[0m: unhashable type: 'list'"
     ]
    }
   ],
   "source": [
    "#set is mutable datatype\n",
    "#the elements inside the set are immutable-int,str\n",
    "a={1,2,[3]}\n",
    "print(a)"
   ]
  },
  {
   "cell_type": "code",
   "execution_count": 7,
   "id": "1ecb3fa6",
   "metadata": {},
   "outputs": [
    {
     "name": "stdout",
     "output_type": "stream",
     "text": [
      "{1, 2, 3}\n",
      "{1, 2, 3, 4}\n",
      "<class 'frozenset'>\n"
     ]
    },
    {
     "ename": "AttributeError",
     "evalue": "'frozenset' object has no attribute 'add'",
     "output_type": "error",
     "traceback": [
      "\u001b[1;31m---------------------------------------------------------------------------\u001b[0m",
      "\u001b[1;31mAttributeError\u001b[0m                            Traceback (most recent call last)",
      "Input \u001b[1;32mIn [7]\u001b[0m, in \u001b[0;36m<cell line: 8>\u001b[1;34m()\u001b[0m\n\u001b[0;32m      6\u001b[0m \u001b[38;5;28mprint\u001b[39m(\u001b[38;5;28mtype\u001b[39m(cities))\n\u001b[0;32m      7\u001b[0m \u001b[38;5;66;03m# Result:<class 'frozenset'>\u001b[39;00m\n\u001b[1;32m----> 8\u001b[0m \u001b[38;5;28mprint\u001b[39m(\u001b[43mcities\u001b[49m\u001b[38;5;241;43m.\u001b[39;49m\u001b[43madd\u001b[49m(\u001b[38;5;124m\"\u001b[39m\u001b[38;5;124mLondon\u001b[39m\u001b[38;5;124m\"\u001b[39m))\n",
      "\u001b[1;31mAttributeError\u001b[0m: 'frozenset' object has no attribute 'add'"
     ]
    }
   ],
   "source": [
    "d=set([1,2,3])\n",
    "print(d)\n",
    "d.add(4)\n",
    "print(d)\n",
    "cities = frozenset([\"Hyderabad\", \"Bengaluru\", \"Pune\", \"Kochi\"])\n",
    "print(type(cities))\n",
    "# Result:<class 'frozenset'>\n",
    "print(cities.add(\"London\"))"
   ]
  },
  {
   "cell_type": "code",
   "execution_count": 6,
   "id": "aee3dbb9",
   "metadata": {},
   "outputs": [
    {
     "name": "stdout",
     "output_type": "stream",
     "text": [
      "{'b', 'a', 'c', 'd', 'e'}\n",
      "<class 'set'>\n",
      "{'b', 'c', 'd', 'e'}\n",
      "{'b', 'c', 'd', 'e'}\n"
     ]
    }
   ],
   "source": [
    "x = {\"a\", \"b\", \"c\", \"d\", \"e\"}\n",
    "print(x) #set contains unordered set of elements\n",
    "print(type(x))\n",
    "x.discard(\"a\")\n",
    "print(x)\n",
    "x.discard(\"z\")\n",
    "print(x)"
   ]
  },
  {
   "cell_type": "code",
   "execution_count": 7,
   "id": "376a91e5",
   "metadata": {},
   "outputs": [
    {
     "name": "stdout",
     "output_type": "stream",
     "text": [
      "{'b', 'a', 'c', 'd', 'e'}\n",
      "<class 'set'>\n",
      "{'b', 'c', 'd', 'e'}\n"
     ]
    },
    {
     "ename": "KeyError",
     "evalue": "'z'",
     "output_type": "error",
     "traceback": [
      "\u001b[1;31m---------------------------------------------------------------------------\u001b[0m",
      "\u001b[1;31mKeyError\u001b[0m                                  Traceback (most recent call last)",
      "Input \u001b[1;32mIn [7]\u001b[0m, in \u001b[0;36m<cell line: 6>\u001b[1;34m()\u001b[0m\n\u001b[0;32m      4\u001b[0m x\u001b[38;5;241m.\u001b[39mremove(\u001b[38;5;124m\"\u001b[39m\u001b[38;5;124ma\u001b[39m\u001b[38;5;124m\"\u001b[39m)\n\u001b[0;32m      5\u001b[0m \u001b[38;5;28mprint\u001b[39m(x)\n\u001b[1;32m----> 6\u001b[0m \u001b[43mx\u001b[49m\u001b[38;5;241;43m.\u001b[39;49m\u001b[43mremove\u001b[49m\u001b[43m(\u001b[49m\u001b[38;5;124;43m\"\u001b[39;49m\u001b[38;5;124;43mz\u001b[39;49m\u001b[38;5;124;43m\"\u001b[39;49m\u001b[43m)\u001b[49m\n",
      "\u001b[1;31mKeyError\u001b[0m: 'z'"
     ]
    }
   ],
   "source": [
    "x = {\"a\", \"b\", \"c\", \"d\", \"e\"}\n",
    "print(x)\n",
    "print(type(x))\n",
    "x.remove(\"a\")\n",
    "print(x)\n",
    "x.remove(\"z\")"
   ]
  },
  {
   "cell_type": "code",
   "execution_count": 24,
   "id": "44133046",
   "metadata": {},
   "outputs": [
    {
     "name": "stdout",
     "output_type": "stream",
     "text": [
      "{'b', 'a', 'c', 'd', 'e'}\n",
      "b\n"
     ]
    }
   ],
   "source": [
    "x = {\"a\", \"b\", \"c\", \"d\", \"e\"}\n",
    "print(x)\n",
    "print(x.pop())"
   ]
  },
  {
   "cell_type": "code",
   "execution_count": 9,
   "id": "3782f44d",
   "metadata": {},
   "outputs": [
    {
     "name": "stdout",
     "output_type": "stream",
     "text": [
      "True\n",
      "True\n",
      "False\n",
      "False\n"
     ]
    }
   ],
   "source": [
    "x = {1, 2, 3, 4, 5, 6, 7}\n",
    "print(1 in x)\n",
    "print(8 not in x)\n",
    "\n",
    "print(0 in x)\n",
    "\n",
    "print(8 in x)\n"
   ]
  },
  {
   "cell_type": "code",
   "execution_count": 10,
   "id": "250b3bc3",
   "metadata": {},
   "outputs": [
    {
     "name": "stdout",
     "output_type": "stream",
     "text": [
      "{1, 2, 3, 4, 5, 6}\n",
      "{1, 2, 3, 4, 5, 6, 7, 8}\n"
     ]
    }
   ],
   "source": [
    "x = {1, 2, 3, 4}\n",
    "y = {4, 5, 6}\n",
    "z = {6, 7, 8}\n",
    "result = (x.union(y))\n",
    "print(result)\n",
    "result = (x.union(y).union(z))\n",
    "print(result)"
   ]
  },
  {
   "cell_type": "code",
   "execution_count": 13,
   "id": "2e669dd6",
   "metadata": {},
   "outputs": [
    {
     "name": "stdout",
     "output_type": "stream",
     "text": [
      "{2, 5, 7}\n",
      "set()\n",
      "{1, 3}\n",
      "set()\n"
     ]
    }
   ],
   "source": [
    "x = {1, 2, 3, 4, 5, 6, 7}\n",
    "y = {2, 5, 7}\n",
    "z = {1, 3}\n",
    "print(x.intersection(y))\n",
    "print(y.intersection(z))\n",
    "print(x.intersection(z))\n",
    "print(x.intersection(y).intersection(z))\n"
   ]
  },
  {
   "cell_type": "code",
   "execution_count": 15,
   "id": "32eff931",
   "metadata": {},
   "outputs": [
    {
     "name": "stdout",
     "output_type": "stream",
     "text": [
      "{'d', 'e', 'a'}\n",
      "{'d', 'e', 'a'}\n"
     ]
    }
   ],
   "source": [
    "x = {\"a\", \"b\", \"c\", \"d\", \"e\"}\n",
    "y = {\"b\", \"c\"}\n",
    "print(x.difference(y))\n",
    "print(x - y)"
   ]
  },
  {
   "cell_type": "code",
   "execution_count": 16,
   "id": "854cbeb7",
   "metadata": {},
   "outputs": [
    {
     "name": "stdout",
     "output_type": "stream",
     "text": [
      "{'b', 'a'}\n"
     ]
    }
   ],
   "source": [
    "x = {'a', 'b', 'c', 'd', 'e'}\n",
    "y = {'c', 'd', 'e'}\n",
    "print(x.symmetric_difference(y))"
   ]
  },
  {
   "cell_type": "code",
   "execution_count": 17,
   "id": "c2236d95",
   "metadata": {},
   "outputs": [
    {
     "name": "stdout",
     "output_type": "stream",
     "text": [
      "{'b', 'a'}\n"
     ]
    }
   ],
   "source": [
    "x = {'a', 'b', 'c', 'd', 'e'}\n",
    "y = {'c', 'd', 'e'}\n",
    "x.symmetric_difference_update(y)\n",
    "print(x)"
   ]
  },
  {
   "cell_type": "code",
   "execution_count": 18,
   "id": "c2d47f9c",
   "metadata": {},
   "outputs": [
    {
     "name": "stdout",
     "output_type": "stream",
     "text": [
      "{'b', 'a', 'c', 'd', 'e'}\n",
      "5\n"
     ]
    }
   ],
   "source": [
    "aset = {'a', 'b', 'a', 'c', 'd', 'e','a'}\n",
    "print(aset)         # Result: {'e', 'b', 'd', 'a', 'c'}\n",
    "print(len(aset))"
   ]
  },
  {
   "cell_type": "code",
   "execution_count": 19,
   "id": "e2086147",
   "metadata": {},
   "outputs": [
    {
     "name": "stdout",
     "output_type": "stream",
     "text": [
      "7\n",
      "{1, 2, 3, 4, 5, 6, 7}\n"
     ]
    }
   ],
   "source": [
    "x = {1, 2, 3, 4, 5, 6, 7}\n",
    "print(len(x))      # Result: 7\n",
    "y = x.copy()\n",
    "print(y)   "
   ]
  },
  {
   "cell_type": "code",
   "execution_count": 28,
   "id": "b625c0b6",
   "metadata": {},
   "outputs": [
    {
     "name": "stdout",
     "output_type": "stream",
     "text": [
      "None\n",
      "{1, 2, 3, 4, 5}\n"
     ]
    }
   ],
   "source": [
    "a={1,2,3,4}\n",
    "print(a.add(5))\n",
    "print(a)"
   ]
  },
  {
   "cell_type": "code",
   "execution_count": 8,
   "id": "f973604e",
   "metadata": {},
   "outputs": [
    {
     "name": "stdout",
     "output_type": "stream",
     "text": [
      "{}\n"
     ]
    }
   ],
   "source": [
    "d=dict()\n",
    "print(d)"
   ]
  },
  {
   "cell_type": "code",
   "execution_count": 10,
   "id": "ccf7771d",
   "metadata": {},
   "outputs": [
    {
     "name": "stdout",
     "output_type": "stream",
     "text": [
      "set()\n"
     ]
    }
   ],
   "source": [
    "d=set()\n",
    "print(d)"
   ]
  },
  {
   "cell_type": "code",
   "execution_count": 11,
   "id": "ad0d714a",
   "metadata": {},
   "outputs": [
    {
     "data": {
      "text/plain": [
       "True"
      ]
     },
     "execution_count": 11,
     "metadata": {},
     "output_type": "execute_result"
    }
   ],
   "source": [
    "a = {1,2,3,4}\n",
    "b= {5, 6}          \n",
    "a.isdisjoint(b)"
   ]
  },
  {
   "cell_type": "code",
   "execution_count": 12,
   "id": "168244b1",
   "metadata": {},
   "outputs": [
    {
     "name": "stdout",
     "output_type": "stream",
     "text": [
      "False\n",
      "True\n",
      "False\n",
      "True\n",
      "False\n",
      "True\n"
     ]
    }
   ],
   "source": [
    "x = {\"a\",\"b\",\"c\",\"d\",\"e\"}\n",
    "y = {\"c\", \"d\"}\n",
    "print(x.issubset(y)) # Result: False\n",
    "print(y.issubset(x)) # Result: True\n",
    "print(x < y)         # Result: False\n",
    "\n",
    "print(y < x)         # Result: True\n",
    "print(x < x)         # Result: False\n",
    "print(x <= x)        # Result: True"
   ]
  },
  {
   "cell_type": "code",
   "execution_count": 13,
   "id": "744fc472",
   "metadata": {},
   "outputs": [
    {
     "name": "stdout",
     "output_type": "stream",
     "text": [
      "True\n",
      "True\n",
      "True\n",
      "False\n",
      "True\n"
     ]
    }
   ],
   "source": [
    "x = {\"a\",\"b\",\"c\",\"d\",\"e\"}\n",
    "y = {\"c\", \"d\"}\n",
    "print(x.issuperset(y)) # Result: True\n",
    "print(x > y)           # Result: True\n",
    "print(x >= x)          # Result: True\n",
    "print(x > x)           # Result: False\n",
    "print(x.issuperset(x)) # Result: True"
   ]
  },
  {
   "cell_type": "code",
   "execution_count": 14,
   "id": "743e6fd1",
   "metadata": {},
   "outputs": [
    {
     "name": "stdout",
     "output_type": "stream",
     "text": [
      "{2, 4, 6, 8, 10}\n"
     ]
    }
   ],
   "source": [
    "s = {i for i in range(1, 11) if i % 2 == 0}\n",
    "print(s)\n",
    "# Result: {2, 4, 6, 8, 10}"
   ]
  },
  {
   "cell_type": "code",
   "execution_count": null,
   "id": "4235cdbe",
   "metadata": {},
   "outputs": [],
   "source": []
  }
 ],
 "metadata": {
  "kernelspec": {
   "display_name": "Python 3 (ipykernel)",
   "language": "python",
   "name": "python3"
  },
  "language_info": {
   "codemirror_mode": {
    "name": "ipython",
    "version": 3
   },
   "file_extension": ".py",
   "mimetype": "text/x-python",
   "name": "python",
   "nbconvert_exporter": "python",
   "pygments_lexer": "ipython3",
   "version": "3.9.12"
  }
 },
 "nbformat": 4,
 "nbformat_minor": 5
}
