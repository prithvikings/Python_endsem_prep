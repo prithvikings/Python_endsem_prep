{
 "cells": [
  {
   "cell_type": "code",
   "execution_count": null,
   "id": "fee3d8e0",
   "metadata": {},
   "outputs": [
    {
     "name": "stdout",
     "output_type": "stream",
     "text": [
      "<class 'str'>\n",
      "3\n"
     ]
    }
   ],
   "source": [
    "#unit 4- Lesson 1 and Lesson 2\n",
    "# String,list,set,tuple,dictionary\n",
    "#immutable/mutable datatype,operations(+,*,in,[:]),inbuilt functions\n",
    "# string Lesson 1-2\n",
    "a=\"123\"\n",
    "print(type(a))\n",
    "print(len(a))"
   ]
  },
  {
   "cell_type": "code",
   "execution_count": null,
   "id": "7afb98b9",
   "metadata": {},
   "outputs": [
    {
     "ename": "SyntaxError",
     "evalue": "expression cannot contain assignment, perhaps you meant \"==\"? (427015472.py, line 4)",
     "output_type": "error",
     "traceback": [
      "\u001b[1;36m  Input \u001b[1;32mIn [7]\u001b[1;36m\u001b[0m\n\u001b[1;33m    print(a[0]=\"J\")\u001b[0m\n\u001b[1;37m          ^\u001b[0m\n\u001b[1;31mSyntaxError\u001b[0m\u001b[1;31m:\u001b[0m expression cannot contain assignment, perhaps you meant \"==\"?\n"
     ]
    }
   ],
   "source": [
    "# strings are immutable(cannot be changed)\n",
    "a=\"Hello\"\n",
    "print(a)\n",
    "c=a[0]=\"J\"\n",
    "print(c)"
   ]
  },
  {
   "cell_type": "code",
   "execution_count": null,
   "id": "6d236ceb",
   "metadata": {},
   "outputs": [
    {
     "name": "stdout",
     "output_type": "stream",
     "text": [
      "HelloClass\n",
      "HelloHelloHello\n"
     ]
    }
   ],
   "source": [
    "#operations on strings\n",
    "a=\"Hello\"\n",
    "b=\"Class\"\n",
    "print(a+b)#concatenation operator\n",
    "print(a*3)#repetition operator"
   ]
  },
  {
   "cell_type": "code",
   "execution_count": null,
   "id": "2a84a696",
   "metadata": {},
   "outputs": [
    {
     "name": "stdout",
     "output_type": "stream",
     "text": [
      "suhr\n",
      "uFs\n"
     ]
    }
   ],
   "source": [
    "#slicing of string [:]\n",
    "a=\"FreshFruits\"\n",
    "#print(a[0:4])\n",
    "#print(a[3:7])\n",
    "#print(a[:6])\n",
    "#print(a[1:])\n",
    "#print(a[:])\n",
    "#print(a[0:7:2])#0,2,4,6\n",
    "#print(a[::-1])\n",
    "print(a[::-3])\n",
    "print(a[7:2:-2])"
   ]
  },
  {
   "cell_type": "code",
   "execution_count": null,
   "id": "609ca996",
   "metadata": {},
   "outputs": [
    {
     "name": "stdout",
     "output_type": "stream",
     "text": [
      "Welcome to python\n",
      "Welcome To Python\n",
      "WELCOME TO PYTHON\n",
      "welcome to python\n",
      "WELCOME TO pYTHON\n",
      "['welcome', 'to', 'Python']\n"
     ]
    }
   ],
   "source": [
    "#built in methods of strings\n",
    "a=\"welcome to Python\"\n",
    "print(a.capitalize())\n",
    "print(a.title())\n",
    "print(a.upper())\n",
    "print(a.lower())\n",
    "print(a.swapcase())\n",
    "print(a.split()) #return list of strings"
   ]
  },
  {
   "cell_type": "code",
   "execution_count": null,
   "id": "febececa",
   "metadata": {},
   "outputs": [],
   "source": []
  },
  {
   "cell_type": "code",
   "execution_count": null,
   "id": "5f964d8c",
   "metadata": {},
   "outputs": [
    {
     "name": "stdout",
     "output_type": "stream",
     "text": [
      "&&&hello&&&\n"
     ]
    }
   ],
   "source": [
    "a=\"hello\"\n",
    "print(a.center(11,\"&\"))"
   ]
  },
  {
   "cell_type": "code",
   "execution_count": null,
   "id": "8c7df9fe",
   "metadata": {},
   "outputs": [
    {
     "name": "stdout",
     "output_type": "stream",
     "text": [
      "2\n",
      "Good birthday Good married life\n"
     ]
    }
   ],
   "source": [
    "a=\"happy birthday happy married life\"\n",
    "print(a.count(\"happy\"))\n",
    "print(a.replace(\"happy\",\"Good\"))"
   ]
  },
  {
   "cell_type": "code",
   "execution_count": null,
   "id": "e4d97ac4",
   "metadata": {},
   "outputs": [
    {
     "name": "stdout",
     "output_type": "stream",
     "text": [
      "Welcome&to&Python\n"
     ]
    }
   ],
   "source": [
    "b=\"&\"\n",
    "a=[\"Welcome\",\"to\",\"Python\"]\n",
    "print(b.join(a))"
   ]
  },
  {
   "cell_type": "code",
   "execution_count": null,
   "id": "885a23e3",
   "metadata": {},
   "outputs": [
    {
     "name": "stdout",
     "output_type": "stream",
     "text": [
      "False\n",
      "False\n",
      "False\n",
      "False\n",
      "True\n",
      "True\n",
      "True\n"
     ]
    }
   ],
   "source": [
    "a=\"welcometoPython1\"\n",
    "b=\" \"\n",
    "c=\"123\"\n",
    "print(a.isupper())\n",
    "print(a.islower())\n",
    "print(a.istitle())\n",
    "print(a.isalpha())# alphabets A-Z, a-z\n",
    "print(a.isalnum())#alphabets A-Z , a-z ,0-9 \n",
    "print(b.isspace())\n",
    "print(c.isdigit())"
   ]
  },
  {
   "cell_type": "code",
   "execution_count": null,
   "id": "1f86e6df",
   "metadata": {},
   "outputs": [
    {
     "name": "stdout",
     "output_type": "stream",
     "text": [
      "hello\n",
      "python\n"
     ]
    }
   ],
   "source": [
    "a=\"hello\\npython\" #escape sequence\n",
    "print(a)"
   ]
  },
  {
   "cell_type": "code",
   "execution_count": null,
   "id": "f7592394",
   "metadata": {},
   "outputs": [
    {
     "name": "stdout",
     "output_type": "stream",
     "text": [
      "hello\tpython\n"
     ]
    }
   ],
   "source": [
    "a=\"hello\\tpython\" # escape sequence\n",
    "print(a)"
   ]
  },
  {
   "cell_type": "code",
   "execution_count": null,
   "id": "375cda91",
   "metadata": {},
   "outputs": [
    {
     "name": "stdout",
     "output_type": "stream",
     "text": [
      "hello'python\n"
     ]
    }
   ],
   "source": [
    "a=\"hello\\'python\"\n",
    "print(a)"
   ]
  },
  {
   "cell_type": "code",
   "execution_count": null,
   "id": "3aa19b76",
   "metadata": {},
   "outputs": [
    {
     "name": "stdout",
     "output_type": "stream",
     "text": [
      "hello\"python\n"
     ]
    }
   ],
   "source": [
    "a=\"hello\\\"python\"\n",
    "print(a)"
   ]
  },
  {
   "cell_type": "code",
   "execution_count": null,
   "id": "fe6cf4ff",
   "metadata": {},
   "outputs": [
    {
     "name": "stdout",
     "output_type": "stream",
     "text": [
      "hello\n",
      "python hello\tpython\n",
      "'hello\\npython hello\\tpython'\n"
     ]
    }
   ],
   "source": [
    "a=\"hello\\npython hello\\tpython\"\n",
    "print(a)\n",
    "print(repr(a))"
   ]
  },
  {
   "cell_type": "code",
   "execution_count": null,
   "id": "6c0b6efa",
   "metadata": {},
   "outputs": [
    {
     "name": "stdout",
     "output_type": "stream",
     "text": [
      "hello\\npython hello\\tpython\n",
      "hello\\npython hello\\tpython\n"
     ]
    }
   ],
   "source": [
    "print(r\"hello\\npython hello\\tpython\")\n",
    "print(R\"hello\\npython hello\\tpython\")"
   ]
  },
  {
   "cell_type": "code",
   "execution_count": null,
   "id": "1da15bac",
   "metadata": {},
   "outputs": [
    {
     "name": "stdout",
     "output_type": "stream",
     "text": [
      "False\n",
      "True\n",
      "5\n",
      "3\n",
      "o\n",
      "H\n"
     ]
    }
   ],
   "source": [
    "a=\"Hello\"\n",
    "print(a.startswith(\"h\"))\n",
    "print(a.endswith(\"o\"))\n",
    "print(len(a))\n",
    "print(a.find(\"lo\"))\n",
    "print(max(a))\n",
    "print(min(a))"
   ]
  },
  {
   "cell_type": "code",
   "execution_count": null,
   "id": "6cfbd227",
   "metadata": {},
   "outputs": [],
   "source": []
  }
 ],
 "metadata": {
  "kernelspec": {
   "display_name": "Python 3 (ipykernel)",
   "language": "python",
   "name": "python3"
  },
  "language_info": {
   "codemirror_mode": {
    "name": "ipython",
    "version": 3
   },
   "file_extension": ".py",
   "mimetype": "text/x-python",
   "name": "python",
   "nbconvert_exporter": "python",
   "pygments_lexer": "ipython3",
   "version": "3.9.12"
  }
 },
 "nbformat": 4,
 "nbformat_minor": 5
}
